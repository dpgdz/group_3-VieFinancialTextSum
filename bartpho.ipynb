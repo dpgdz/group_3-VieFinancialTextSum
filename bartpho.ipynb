{
 "cells": [
  {
   "cell_type": "code",
   "execution_count": 12,
   "metadata": {},
   "outputs": [],
   "source": [
    "import pandas as pd\n",
    "import os\n",
    "from tqdm import tqdm\n",
    "import openpyxl\n",
    "\n",
    "import torch\n",
    "from transformers import BartForConditionalGeneration, BartTokenizer, Trainer, TrainingArguments, AutoTokenizer, AutoModelForSeq2SeqLM, DataCollatorForSeq2Seq, Seq2SeqTrainingArguments \n",
    "from datasets import load_dataset, DatasetDict\n",
    "from transformers import DataCollatorForSeq2Seq\n",
    "from sklearn.model_selection import train_test_split"
   ]
  },
  {
   "cell_type": "markdown",
   "metadata": {},
   "source": [
    "### bart"
   ]
  },
  {
   "cell_type": "code",
   "execution_count": 22,
   "metadata": {},
   "outputs": [],
   "source": [
    "# data1 = pd.read_excel('data_summerize (1).xlsx')\n",
    "# data2 = pd.read_excel('data_summerize.xlsx') \n",
    "\n",
    "# combined_data = pd.concat([data1, data2], ignore_index=True)\n",
    "# combined_data.dropna(inplace=True)\n",
    "# combined_data['summarization'] = combined_data['summarization'].str.lower()\n",
    "\n",
    "# features = combined_data['content']\n",
    "# labels = combined_data['summarization']\n",
    "\n",
    "# train_content, test_content, train_summary, test_summary = train_test_split(features, labels, test_size=0.2, random_state=42)\n",
    "# val_content, test_content, val_summary, test_summary = train_test_split(test_content, test_summary, test_size=0.5, random_state=42)\n",
    "\n",
    "# train_df = pd.DataFrame({'document': train_content, 'summary': train_summary})\n",
    "# val_df = pd.DataFrame({'document': val_content, 'summary': val_summary})\n",
    "# test_df = pd.DataFrame({'document': test_content, 'summary': test_summary})\n",
    "\n",
    "# train_df.to_csv('data/train.csv', index=False)\n",
    "# val_df.to_csv('data/val.csv', index=False)\n",
    "# test_df.to_csv('data/test.csv', index=False)\n"
   ]
  },
  {
   "cell_type": "code",
   "execution_count": null,
   "metadata": {},
   "outputs": [],
   "source": [
    "tokenizer = AutoTokenizer.from_pretrained(\"vinai/bartpho-syllable\")\n",
    "model = AutoModelForSeq2SeqLM.from_pretrained(\"vinai/bartpho-syllable\")"
   ]
  },
  {
   "cell_type": "code",
   "execution_count": null,
   "metadata": {},
   "outputs": [],
   "source": [
    "data_files = {\n",
    "    'train': 'data/train.csv',\n",
    "    'validation': 'data/val.csv',\n",
    "    'test': 'data/test.csv'\n",
    "}\n",
    "dataset = load_dataset(\"csv\", data_files=data_files)"
   ]
  },
  {
   "cell_type": "code",
   "execution_count": null,
   "metadata": {},
   "outputs": [],
   "source": [
    "def tokenize(batch):\n",
    "    inputs = tokenizer(batch['document'], padding=\"max_length\", max_length=1024, truncation=True)\n",
    "    labels = tokenizer(batch['summary'], padding=\"max_length\", max_length=1024, truncation=True)\n",
    "    inputs[\"labels\"] = labels[\"input_ids\"]\n",
    "    return inputs\n",
    "tokenized_data = dataset.map(tokenize, batched=True)\n",
    "data_collator = DataCollatorForSeq2Seq(tokenizer, model=model, return_tensors=\"pt\")\n"
   ]
  },
  {
   "cell_type": "code",
   "execution_count": null,
   "metadata": {},
   "outputs": [],
   "source": [
    "def evaluate(preds, targets):\n",
    "    rouge = load_metric(\"rouge\")\n",
    "    scores = rouge.compute(predictions=preds, references=targets)\n",
    "    return {\n",
    "        \"rouge1\": scores[\"rouge1\"].mid.fmeasure,\n",
    "        \"rouge2\": scores[\"rouge2\"].mid.fmeasure,\n",
    "        \"rougeL\": scores[\"rougeL\"].mid.fmeasure\n",
    "    }\n",
    "\n",
    "def metrics_func(eval_arg):\n",
    "    preds, labels = eval_arg\n",
    "    preds = np.where(preds != -100, preds, tokenizer.pad_token_id)\n",
    "    labels = np.where(labels != -100, labels, tokenizer.pad_token_id)\n",
    "    decoded_preds = tokenizer.batch_decode(preds, skip_special_tokens=True)\n",
    "    decoded_labels = tokenizer.batch_decode(labels, skip_special_tokens=True)\n",
    "    return evaluate(decoded_preds, decoded_labels)\n",
    "\n",
    "def preprocess_function(examples):\n",
    "    model_inputs = tokenizer(\n",
    "        examples[\"document\"], max_length=512, truncation=True, padding=\"max_length\"\n",
    "    )\n",
    "    with tokenizer.as_target_tokenizer():\n",
    "        labels = tokenizer(\n",
    "            examples[\"summary\"], max_length=128, truncation=True, padding=\"max_length\"\n",
    "        )\n",
    "    model_inputs[\"labels\"] = labels[\"input_ids\"]\n",
    "    return model_inputs\n"
   ]
  },
  {
   "cell_type": "code",
   "execution_count": null,
   "metadata": {},
   "outputs": [],
   "source": [
    "training_args = Seq2SeqTrainingArguments(\n",
    "    output_dir=\"./financial_summarization\",\n",
    "    run_name=\"financial_summarization_run\",\n",
    "    num_train_epochs=3,\n",
    "    learning_rate=3e-5,\n",
    "    per_device_train_batch_size=12, \n",
    "    per_device_eval_batch_size=12,  \n",
    "    evaluation_strategy=\"epoch\",\n",
    "    save_strategy=\"epoch\",\n",
    "    logging_dir='./logs',\n",
    "    predict_with_generate=True,\n",
    "    generation_max_length=1024,\n",
    "    fp16=True,\n",
    "    gradient_accumulation_steps=2, \n",
    "    save_total_limit=3,             \n",
    "    save_steps=500,                 \n",
    "    logging_steps=100              \n",
    ")\n",
    "\n",
    "trainer = Trainer(\n",
    "    model=model,\n",
    "    args=training_args,\n",
    "    train_dataset=tokenized_data['train'],\n",
    "    eval_dataset=tokenized_data['validation'],\n",
    "    tokenizer=tokenizer,\n",
    "    data_collator=data_collator,\n",
    "    compute_metrics=metrics_func\n",
    ")"
   ]
  },
  {
   "cell_type": "code",
   "execution_count": null,
   "metadata": {},
   "outputs": [],
   "source": [
    "trainer.train()\n",
    "\n",
    "model.save_pretrained(\"bartpho\")\n",
    "tokenizer.save_pretrained(\"bartpho\")"
   ]
  }
 ],
 "metadata": {
  "kernelspec": {
   "display_name": "Python 3",
   "language": "python",
   "name": "python3"
  },
  "language_info": {
   "codemirror_mode": {
    "name": "ipython",
    "version": 3
   },
   "file_extension": ".py",
   "mimetype": "text/x-python",
   "name": "python",
   "nbconvert_exporter": "python",
   "pygments_lexer": "ipython3",
   "version": "3.11.9"
  }
 },
 "nbformat": 4,
 "nbformat_minor": 2
}
