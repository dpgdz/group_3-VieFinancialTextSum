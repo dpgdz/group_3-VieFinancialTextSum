{
 "cells": [
  {
   "cell_type": "code",
   "execution_count": 2,
   "metadata": {},
   "outputs": [],
   "source": [
    "import pandas as pd\n",
    "import os\n",
    "import regex as re\n",
    "from tqdm import tqdm"
   ]
  },
  {
   "cell_type": "code",
   "execution_count": 3,
   "metadata": {},
   "outputs": [
    {
     "name": "stderr",
     "output_type": "stream",
     "text": [
      "  0%|          | 0/13 [00:00<?, ?it/s]"
     ]
    },
    {
     "name": "stdout",
     "output_type": "stream",
     "text": [
      "reading: n\n"
     ]
    },
    {
     "name": "stderr",
     "output_type": "stream",
     "text": [
      "  8%|▊         | 1/13 [00:00<00:04,  2.50it/s]"
     ]
    },
    {
     "name": "stdout",
     "output_type": "stream",
     "text": [
      "reading vnexpress.xlsx: vnexpress\n",
      "reading: h\n"
     ]
    },
    {
     "name": "stderr",
     "output_type": "stream",
     "text": [
      " 23%|██▎       | 3/13 [00:01<00:03,  3.07it/s]"
     ]
    },
    {
     "name": "stdout",
     "output_type": "stream",
     "text": [
      "reading thoibaotaichinh.xlsx: thoibaotaichinh\n",
      "reading: h\n",
      "reading thitruongtaichinhtiente.xlsx: thitruongtaichinhtiente\n",
      "reading: i\n",
      "reading vietstock.xlsx: vietstock\n",
      "reading: a\n"
     ]
    },
    {
     "name": "stderr",
     "output_type": "stream",
     "text": [
      " 38%|███▊      | 5/13 [00:01<00:01,  4.88it/s]"
     ]
    },
    {
     "name": "stdout",
     "output_type": "stream",
     "text": [
      "reading tapchitaichinh.xlsx: tapchitaichinh\n",
      "reading: n\n",
      "reading vneconomy2.xlsx: vneconomy2\n",
      "reading: n\n"
     ]
    },
    {
     "name": "stderr",
     "output_type": "stream",
     "text": [
      " 54%|█████▍    | 7/13 [00:01<00:00,  6.17it/s]"
     ]
    },
    {
     "name": "stdout",
     "output_type": "stream",
     "text": [
      "reading Vneconomy(1).xlsx: Vneconomy(1)\n",
      "reading: a\n",
      "reading cafef_stock.xlsx: cafef_stock\n",
      "reading: h\n"
     ]
    },
    {
     "name": "stderr",
     "output_type": "stream",
     "text": [
      " 77%|███████▋  | 10/13 [00:02<00:00,  5.43it/s]"
     ]
    },
    {
     "name": "stdout",
     "output_type": "stream",
     "text": [
      "reading thanhnien.xlsx: thanhnien\n",
      "reading: a\n",
      "reading cafef_bank.xlsx: cafef_bank\n",
      "reading: h\n",
      "reading thitruongtaichinh.xlsx: thitruongtaichinh\n",
      "reading: u\n",
      "reading tuoitre.xlsx: tuoitre\n"
     ]
    },
    {
     "name": "stderr",
     "output_type": "stream",
     "text": [
      "100%|██████████| 13/13 [00:02<00:00,  5.01it/s]"
     ]
    },
    {
     "name": "stdout",
     "output_type": "stream",
     "text": [
      "reading: a\n",
      "reading cafef_business.xlsx: cafef_business\n"
     ]
    },
    {
     "name": "stderr",
     "output_type": "stream",
     "text": [
      "\n"
     ]
    },
    {
     "data": {
      "text/plain": [
       "dict_keys(['vnexpress', 'thoibaotaichinh', 'thitruongtaichinhtiente', 'vietstock', 'tapchitaichinh', 'vneconomy2', 'Vneconomy(1)', 'cafef_stock', 'thanhnien', 'cafef_bank', 'thitruongtaichinh', 'tuoitre', 'cafef_business'])"
      ]
     },
     "execution_count": 3,
     "metadata": {},
     "output_type": "execute_result"
    }
   ],
   "source": [
    "folder_path = 'raw_data/extracted'\n",
    "\n",
    "absfolder = os.path.abspath(folder_path)\n",
    "\n",
    "if not os.path.exists(absfolder):\n",
    "    print(f\"folder {absfolder} not exist\")\n",
    "else:\n",
    "    dataframes = {}\n",
    "\n",
    "    for filename in tqdm(os.listdir(absfolder)):\n",
    "        if filename.endswith(\".xlsx\"):\n",
    "            file_path = os.path.join(absfolder, filename)\n",
    "            dfnames = os.path.splitext(filename)[0]\n",
    "            print(f\"reading: {filename[1]}\")\n",
    "            \n",
    "            try:\n",
    "                dataframes[dfnames] = pd.read_excel(file_path)\n",
    "                print(f\"reading {filename}: {dfnames}\")\n",
    "            except Exception as e:\n",
    "                print(f\"cant read {filename}: {repr(e)}\")\n",
    "\n",
    "dataframes.keys()\n"
   ]
  },
  {
   "cell_type": "code",
   "execution_count": 4,
   "metadata": {},
   "outputs": [
    {
     "name": "stdout",
     "output_type": "stream",
     "text": [
      "vnexpress Index(['Field2', 'Field1'], dtype='object')\n",
      "thoibaotaichinh Index(['Field2', 'Field1'], dtype='object')\n",
      "thitruongtaichinhtiente Index(['Field2', 'Field1'], dtype='object')\n",
      "vietstock Index(['Title', 'Content'], dtype='object')\n",
      "tapchitaichinh Index(['Field2', 'Field1'], dtype='object')\n",
      "vneconomy2 Index(['Field2', 'Field'], dtype='object')\n",
      "Vneconomy(1) Index(['title', 'content'], dtype='object')\n",
      "cafef_stock Index(['Field2', 'Field1'], dtype='object')\n",
      "thanhnien Index(['Text', 'Field1'], dtype='object')\n",
      "cafef_bank Index(['Field2', 'Field1'], dtype='object')\n",
      "thitruongtaichinh Index(['Field2', 'Field1'], dtype='object')\n",
      "tuoitre Index(['Field2', 'Field1'], dtype='object')\n",
      "cafef_business Index(['Text', 'Field1'], dtype='object')\n"
     ]
    }
   ],
   "source": [
    "dataframes\n",
    "for key, val in dataframes.items():\n",
    "    print (key, val.columns)"
   ]
  },
  {
   "cell_type": "code",
   "execution_count": 5,
   "metadata": {},
   "outputs": [],
   "source": [
    "def rename_columns(dataframes):\n",
    "    for df_name, df in dataframes.items():\n",
    "        if df.shape[1] >= 2:  \n",
    "            df.columns = ['title', 'content'] + list(df.columns[2:])  \n",
    "        else:\n",
    "            print(f\"df it hon 2 cot, khong the rename\")\n",
    "\n",
    "rename_columns(dataframes)\n"
   ]
  },
  {
   "cell_type": "code",
   "execution_count": 6,
   "metadata": {},
   "outputs": [
    {
     "name": "stdout",
     "output_type": "stream",
     "text": [
      "vnexpress Index(['title', 'content'], dtype='object')\n",
      "thoibaotaichinh Index(['title', 'content'], dtype='object')\n",
      "thitruongtaichinhtiente Index(['title', 'content'], dtype='object')\n",
      "vietstock Index(['title', 'content'], dtype='object')\n",
      "tapchitaichinh Index(['title', 'content'], dtype='object')\n",
      "vneconomy2 Index(['title', 'content'], dtype='object')\n",
      "Vneconomy(1) Index(['title', 'content'], dtype='object')\n",
      "cafef_stock Index(['title', 'content'], dtype='object')\n",
      "thanhnien Index(['title', 'content'], dtype='object')\n",
      "cafef_bank Index(['title', 'content'], dtype='object')\n",
      "thitruongtaichinh Index(['title', 'content'], dtype='object')\n",
      "tuoitre Index(['title', 'content'], dtype='object')\n",
      "cafef_business Index(['title', 'content'], dtype='object')\n"
     ]
    }
   ],
   "source": [
    "for key, df in dataframes.items():\n",
    "    print (key, df.columns)"
   ]
  },
  {
   "cell_type": "code",
   "execution_count": 7,
   "metadata": {},
   "outputs": [
    {
     "data": {
      "text/plain": [
       "{'vnexpress': title      0\n",
       " content    2\n",
       " dtype: int64,\n",
       " 'thoibaotaichinh': title         0\n",
       " content    4545\n",
       " dtype: int64,\n",
       " 'thitruongtaichinhtiente': title      0\n",
       " content    1\n",
       " dtype: int64,\n",
       " 'vietstock': title       0\n",
       " content    47\n",
       " dtype: int64,\n",
       " 'tapchitaichinh': title       0\n",
       " content    23\n",
       " dtype: int64,\n",
       " 'vneconomy2': title      0\n",
       " content    0\n",
       " dtype: int64,\n",
       " 'Vneconomy(1)': title      0\n",
       " content    6\n",
       " dtype: int64,\n",
       " 'cafef_stock': title       0\n",
       " content    15\n",
       " dtype: int64,\n",
       " 'thanhnien': title        0\n",
       " content    276\n",
       " dtype: int64,\n",
       " 'cafef_bank': title        0\n",
       " content    191\n",
       " dtype: int64,\n",
       " 'thitruongtaichinh': title       0\n",
       " content    74\n",
       " dtype: int64,\n",
       " 'tuoitre': title       8\n",
       " content    48\n",
       " dtype: int64,\n",
       " 'cafef_business': title       0\n",
       " content    40\n",
       " dtype: int64}"
      ]
     },
     "execution_count": 7,
     "metadata": {},
     "output_type": "execute_result"
    }
   ],
   "source": [
    "{name: df.isnull().sum() for name, df in dataframes.items()}"
   ]
  },
  {
   "cell_type": "code",
   "execution_count": 8,
   "metadata": {},
   "outputs": [
    {
     "data": {
      "text/plain": [
       "{'vnexpress': title      0\n",
       " content    0\n",
       " dtype: int64,\n",
       " 'thoibaotaichinh': title      0\n",
       " content    0\n",
       " dtype: int64,\n",
       " 'thitruongtaichinhtiente': title      0\n",
       " content    0\n",
       " dtype: int64,\n",
       " 'vietstock': title      0\n",
       " content    0\n",
       " dtype: int64,\n",
       " 'tapchitaichinh': title      0\n",
       " content    0\n",
       " dtype: int64,\n",
       " 'vneconomy2': title      0\n",
       " content    0\n",
       " dtype: int64,\n",
       " 'Vneconomy(1)': title      0\n",
       " content    0\n",
       " dtype: int64,\n",
       " 'cafef_stock': title      0\n",
       " content    0\n",
       " dtype: int64,\n",
       " 'thanhnien': title      0\n",
       " content    0\n",
       " dtype: int64,\n",
       " 'cafef_bank': title      0\n",
       " content    0\n",
       " dtype: int64,\n",
       " 'thitruongtaichinh': title      0\n",
       " content    0\n",
       " dtype: int64,\n",
       " 'tuoitre': title      0\n",
       " content    0\n",
       " dtype: int64,\n",
       " 'cafef_business': title      0\n",
       " content    0\n",
       " dtype: int64}"
      ]
     },
     "execution_count": 8,
     "metadata": {},
     "output_type": "execute_result"
    }
   ],
   "source": [
    "for name, df in dataframes.items():\n",
    "    dataframes[name].dropna(inplace=True)\n",
    "{name: df.isnull().sum() for name, df in dataframes.items()}\n"
   ]
  },
  {
   "cell_type": "code",
   "execution_count": 9,
   "metadata": {},
   "outputs": [
    {
     "data": {
      "text/plain": [
       "{'vnexpress': 0,\n",
       " 'thoibaotaichinh': 1,\n",
       " 'thitruongtaichinhtiente': 0,\n",
       " 'vietstock': 0,\n",
       " 'tapchitaichinh': 0,\n",
       " 'vneconomy2': 0,\n",
       " 'Vneconomy(1)': 0,\n",
       " 'cafef_stock': 0,\n",
       " 'thanhnien': 0,\n",
       " 'cafef_bank': 0,\n",
       " 'thitruongtaichinh': 0,\n",
       " 'tuoitre': 0,\n",
       " 'cafef_business': 1}"
      ]
     },
     "execution_count": 9,
     "metadata": {},
     "output_type": "execute_result"
    }
   ],
   "source": [
    "{name: df.duplicated().sum() for name, df in dataframes.items()}"
   ]
  },
  {
   "cell_type": "code",
   "execution_count": 10,
   "metadata": {},
   "outputs": [
    {
     "data": {
      "text/plain": [
       "{'vnexpress': 0,\n",
       " 'thoibaotaichinh': 0,\n",
       " 'thitruongtaichinhtiente': 0,\n",
       " 'vietstock': 0,\n",
       " 'tapchitaichinh': 0,\n",
       " 'vneconomy2': 0,\n",
       " 'Vneconomy(1)': 0,\n",
       " 'cafef_stock': 0,\n",
       " 'thanhnien': 0,\n",
       " 'cafef_bank': 0,\n",
       " 'thitruongtaichinh': 0,\n",
       " 'tuoitre': 0,\n",
       " 'cafef_business': 0}"
      ]
     },
     "execution_count": 10,
     "metadata": {},
     "output_type": "execute_result"
    }
   ],
   "source": [
    "for name, df in dataframes.items():\n",
    "    dataframes[name].drop_duplicates(inplace=True)\n",
    "{name: df.duplicated().sum() for name, df in dataframes.items()}"
   ]
  },
  {
   "cell_type": "code",
   "execution_count": 11,
   "metadata": {},
   "outputs": [
    {
     "name": "stderr",
     "output_type": "stream",
     "text": [
      "processing: 100%|██████████| 13/13 [00:07<00:00,  1.67it/s]\n"
     ]
    },
    {
     "data": {
      "text/plain": [
       "{'vnexpress':                                                   title  \\\n",
       " 0     bà harris muốn tăng hỗ trợ gấp 10 lần cho doan...   \n",
       " 1     bà harris muốn tăng hỗ trợ gấp 10 lần cho doan...   \n",
       " 2                    ceo yeah1 lĩnh thù lao 1,5 tỷ đồng   \n",
       " 3     hơn ba triệu lượt khách đến vincom vui chơi, m...   \n",
       " 4                    ceo yeah1 lĩnh thù lao 1,5 tỷ đồng   \n",
       " ...                                                 ...   \n",
       " 5416    vincom khai trương hai trung tâm thương mại mới   \n",
       " 5417    vincom khai trương hai trung tâm thương mại mới   \n",
       " 5418    vincom khai trương hai trung tâm thương mại mới   \n",
       " 5419    vincom khai trương hai trung tâm thương mại mới   \n",
       " 5420    vincom khai trương hai trung tâm thương mại mới   \n",
       " \n",
       "                                                 content  \n",
       " 0     trên reuters, một quan chức trong chiến dịch t...  \n",
       " 1     tính trung bình, chi phí để thành lập một doan...  \n",
       " 2     trong báo cáo tài chính hợp nhất bán niên sau ...  \n",
       " 3     dịp nghỉ lễ 2/9 kéo dài 4 ngày, nhiều gia đình...  \n",
       " 4     ceo này là một trong hai lãnh đạo của yeah1 nh...  \n",
       " ...                                                 ...  \n",
       " 5416  vincom plaza bắc giang quy tụ 50 thương hiệu v...  \n",
       " 5417  tại các cơ sở mới, vincom triển khai nhiều chư...  \n",
       " 5418  với vincom plaza bắc giang, khách hàng được th...  \n",
       " 5419  trong 30 ngày qua, vincom đã ra mắt bốn trung ...  \n",
       " 5420                                            nhật lệ  \n",
       " \n",
       " [5419 rows x 2 columns],\n",
       " 'thoibaotaichinh':                                                    title  \\\n",
       " 0      bộ tài chính tuyển dụng nhân viên lễ tân và lá...   \n",
       " 1      bộ tài chính tuyển dụng nhân viên lễ tân và lá...   \n",
       " 2      bộ tài chính tuyển dụng nhân viên lễ tân và lá...   \n",
       " 3      bộ tài chính tuyển dụng nhân viên lễ tân và lá...   \n",
       " 4      bộ tài chính tuyển dụng nhân viên lễ tân và lá...   \n",
       " ...                                                  ...   \n",
       " 18224  nhiều huyện tại vĩnh phúc còn tồn đọng dự án c...   \n",
       " 18228  9 doanh nghiệp hàng hải tham gia thí điểm cơ c...   \n",
       " 18229  9 doanh nghiệp hàng hải tham gia thí điểm cơ c...   \n",
       " 18230  9 doanh nghiệp hàng hải tham gia thí điểm cơ c...   \n",
       " 18232  9 doanh nghiệp hàng hải tham gia thí điểm cơ c...   \n",
       " \n",
       "                                                  content  \n",
       " 0      đối với nhân viên lễ tân làm việc 8 giờ/ngày, ...  \n",
       " 1      đối với nhân viên lái xe làm việc 8 giờ/ngày, ...  \n",
       " 2      yêu cầu chung có một quốc tịch là quốc tịch vi...  \n",
       " 3      yêu cầu cụ thể đối với nhân viên lễ tân nữ đủ ...  \n",
       " 4      yêu cầu đối với lái xe nam đủ 21 tuổi trở lên ...  \n",
       " ...                                                  ...  \n",
       " 18224                                          hạnh thảo  \n",
       " 18228  theo đó, cục hàng hải đề xuất chọn 9 dn tham g...  \n",
       " 18229  cụ thể, tại hải phòng có các công ty sitc việt...  \n",
       " 18230  trước đó, ngày 27/10/2014, tổng cục hải quan đ...  \n",
       " 18232                                          theo tchq  \n",
       " \n",
       " [13687 rows x 2 columns],\n",
       " 'thitruongtaichinhtiente':                                                   title  \\\n",
       " 0     một dự án khu du lịch sinh thái ở thanh hóa đư...   \n",
       " 1     một dự án khu du lịch sinh thái ở thanh hóa đư...   \n",
       " 2     một dự án khu du lịch sinh thái ở thanh hóa đư...   \n",
       " 3     một dự án khu du lịch sinh thái ở thanh hóa đư...   \n",
       " 4     đề xuất hướng giải quyết 8.800 hồ sơ nhà đất b...   \n",
       " ...                                                 ...   \n",
       " 5606  giá dầu nối dài đà tăng do căng thẳng trung đô...   \n",
       " 5607  giá dầu nối dài đà tăng do căng thẳng trung đô...   \n",
       " 5608  giá dầu nối dài đà tăng do căng thẳng trung đô...   \n",
       " 5609  giá dầu nối dài đà tăng do căng thẳng trung đô...   \n",
       " 5610  giá dầu nối dài đà tăng do căng thẳng trung đô...   \n",
       " \n",
       "                                                 content  \n",
       " 0     ubnd tỉnh thanh hóa vừa có quyết định điều chỉ...  \n",
       " 1     theo đó, trong lần điều chỉnh này, dự án được ...  \n",
       " 2     tổng mức đầu tư của dự án là 11.096 tỷ đồng tr...  \n",
       " 3     trước đó, tại quyết định 1704, dự án có tổng v...  \n",
       " 4     theo ông lê hoàng châu, chủ tịch horea, tại cu...  \n",
       " ...                                                 ...  \n",
       " 5606  nông sản là nhóm dẫn dắt xu hướng giảm của toà...  \n",
       " 5607  tâm điểm chú ý của thị trường trong tuần vừa r...  \n",
       " 5608  trong khi đó, tuy vẫn suy yếu 0,39 nhưng đà la...  \n",
       " 5609  trong báo cáo tiến độ mùa vụ crop progress, us...  \n",
       " 5610  ngoài ra theo dữ liệu từ báo cáo grain stocks,...  \n",
       " \n",
       " [5610 rows x 2 columns],\n",
       " 'vietstock':                                                   title  \\\n",
       " 0     khối tài sản của các gia đình siêu giàu ước đạ...   \n",
       " 1     khối tài sản của các gia đình siêu giàu ước đạ...   \n",
       " 2     khối tài sản của các gia đình siêu giàu ước đạ...   \n",
       " 3     khối tài sản của các gia đình siêu giàu ước đạ...   \n",
       " 4     khối tài sản của các gia đình siêu giàu ước đạ...   \n",
       " ...                                                 ...   \n",
       " 1308  bvh đạt 1,059 tỷ đồng lãi sau thuế 6 tháng, tă...   \n",
       " 1309  bvh đạt 1,059 tỷ đồng lãi sau thuế 6 tháng, tă...   \n",
       " 1310  bvh đạt 1,059 tỷ đồng lãi sau thuế 6 tháng, tă...   \n",
       " 1311  bvh đạt 1,059 tỷ đồng lãi sau thuế 6 tháng, tă...   \n",
       " 1312  bvh đạt 1,059 tỷ đồng lãi sau thuế 6 tháng, tă...   \n",
       " \n",
       "                                                 content  \n",
       " 0     theo ước tính của công ty tư vấn deloitte, tài...  \n",
       " 1     báo cáo của deloitte dự kiến tổng khối tài sản...  \n",
       " 2     số lượng công ty đầu tư dành riêng cho người g...  \n",
       " 3     deloitte cũng lưu ý tình trạng bất bình đẳng v...  \n",
       " 4     kết hợp thực trạng đó với việc mở một công ty ...  \n",
       " ...                                                 ...  \n",
       " 1308  tổng doanh thu công ty mẹ đạt 810 tỷ đồng, lợi...  \n",
       " 1309  với tiềm lực tài chính mạnh, quy mô vốn và tài...  \n",
       " 1310  lĩnh vực kinh doanh bảo hiểm nhân thọ đạt 21,5...  \n",
       " 1311  nửa đầu năm 2024, thị trường bảo hiểm có những...  \n",
       " 1312  bảo việt nhân thọ cũng khẳng định uy tín của t...  \n",
       " \n",
       " [1266 rows x 2 columns],\n",
       " 'tapchitaichinh':                                                   title  \\\n",
       " 0     tăng hiệu quả phòng ngừa tham nhũng, tiêu cực ...   \n",
       " 1     tăng hiệu quả phòng ngừa tham nhũng, tiêu cực ...   \n",
       " 2     tăng hiệu quả phòng ngừa tham nhũng, tiêu cực ...   \n",
       " 3     tăng hiệu quả phòng ngừa tham nhũng, tiêu cực ...   \n",
       " 4     tăng hiệu quả phòng ngừa tham nhũng, tiêu cực ...   \n",
       " ...                                                 ...   \n",
       " 6132  kịp thời thanh toán khối lượng để đẩy nhanh ti...   \n",
       " 6133  kịp thời thanh toán khối lượng để đẩy nhanh ti...   \n",
       " 6134  kịp thời thanh toán khối lượng để đẩy nhanh ti...   \n",
       " 6135  kịp thời thanh toán khối lượng để đẩy nhanh ti...   \n",
       " 6136  kịp thời thanh toán khối lượng để đẩy nhanh ti...   \n",
       " \n",
       "                                                 content  \n",
       " 0                 kiểm soát chặt chẽ thủ tục hành chính  \n",
       " 1     để góp phần phòng ngừa tham nhũng, tiêu cực, t...  \n",
       " 2     bộ tài chính thường xuyên rà soát, đánh giá th...  \n",
       " 3     trên cơ sở các văn bản quy phạm pháp luật quy ...  \n",
       " 4     theo bộ tài chính, đến ngày 31/7/2024, tổng số...  \n",
       " ...                                                 ...  \n",
       " 6132  kbnn tỉnh, thành phố trực thuộc trung ương, sở...  \n",
       " 6133  cùng với đó, phối hợp chặt chẽ với chủ đầu tư,...  \n",
       " 6134  trường hợp trong quá trình thực hiện có khó kh...  \n",
       " 6135  trong quá trình kiểm soát thanh toán vốn đầu t...  \n",
       " 6136  kbnn cũng yêu cầu thực hiện đối chiếu số liệu ...  \n",
       " \n",
       " [6114 rows x 2 columns],\n",
       " 'vneconomy2':                                                   title  \\\n",
       " 0     tưng bừng chào tết, trúng vàng trên ứng dụng n...   \n",
       " 1     tưng bừng chào tết, trúng vàng trên ứng dụng n...   \n",
       " 2     tưng bừng chào tết, trúng vàng trên ứng dụng n...   \n",
       " 3     tưng bừng chào tết, trúng vàng trên ứng dụng n...   \n",
       " 4     tưng bừng chào tết, trúng vàng trên ứng dụng n...   \n",
       " ...                                                 ...   \n",
       " 1314  hải quan kiểm soát chặt doanh nghiệp gian lận,...   \n",
       " 1315  hải quan kiểm soát chặt doanh nghiệp gian lận,...   \n",
       " 1316  hải quan kiểm soát chặt doanh nghiệp gian lận,...   \n",
       " 1317  hải quan kiểm soát chặt doanh nghiệp gian lận,...   \n",
       " 1318  hải quan kiểm soát chặt doanh nghiệp gian lận,...   \n",
       " \n",
       "                                                 content  \n",
       " 0     đáp ứng nhu cầu chuyển tiền quốc tế, giao dịch...  \n",
       " 1     theo đó, từ nay đến 31/03/2023, ncb miễn phí c...  \n",
       " 2     với ưu đãi hấp dẫn này, ncb mong muốn dành món...  \n",
       " 3     cũng trong thời gian từ ngày 15/2 - 21/2/2024,...  \n",
       " 4     chỉ cần gửi tiền tiết kiệm tại các quầy giao d...  \n",
       " ...                                                 ...  \n",
       " 1314  cùng với đó, áp dụng các biện pháp kiểm tra, x...  \n",
       " 1315  bốn, rà soát, phân loại các nhóm nợ có khả năn...  \n",
       " 1316  năm, tăng cường kiểm tra, rà soát, xử lý đúng ...  \n",
       " 1317  sáu, kiểm soát chặt chẽ công tác hoàn thuế, xử...  \n",
       " 1318  đồng thời, phối hợp với cơ quan thuế nội địa v...  \n",
       " \n",
       " [1319 rows x 2 columns],\n",
       " 'Vneconomy(1)':                                                   title  \\\n",
       " 0     khơi thông điểm nghẽn về vốn cho doanh nghiệp ...   \n",
       " 1     khơi thông điểm nghẽn về vốn cho doanh nghiệp ...   \n",
       " 2     khơi thông điểm nghẽn về vốn cho doanh nghiệp ...   \n",
       " 3           asean điểm đến của dòng vốn đầu tư toàn cầu   \n",
       " 4     khơi thông điểm nghẽn về vốn cho doanh nghiệp ...   \n",
       " ...                                                 ...   \n",
       " 5181  vietcombank và ubnd quận long biên tổ chức tra...   \n",
       " 5182  vietcombank và ubnd quận long biên tổ chức tra...   \n",
       " 5183  vietcombank và ubnd quận long biên tổ chức tra...   \n",
       " 5184  trạng thái ngược chiều chính sách tiền tệ của ...   \n",
       " 5185  vietcombank và ubnd quận long biên tổ chức tra...   \n",
       " \n",
       "                                                 content  \n",
       " 0     từ nay đến hết năm 2024, nhiều chuyên gia dự b...  \n",
       " 1     chiếm tỷ trọng tới 97 tổng số doanh nghiệp cả ...  \n",
       " 2     mới thành lập, mới gia nhập ngành, lĩnh vực ki...  \n",
       " 3     dòng vốn fdi toàn cầu trong năm 2023 đạt 1,33 ...  \n",
       " 4     việc tìm ra các giải pháp để khơi thông vốn tớ...  \n",
       " ...                                                 ...  \n",
       " 5181  hiện vietcombank đã và đang là ngân hàng số 1 ...  \n",
       " 5182  chúng tôi mong muốn quỹ khuyến học với mục đíc...  \n",
       " 5183  thay mặt ban giám hiệu, cbgvnv và các em học s...  \n",
       " 5184                                                     \n",
       " 5185  bên cạnh đó quỹ khuyến học của nhà trường cũng...  \n",
       " \n",
       " [5180 rows x 2 columns],\n",
       " 'cafef_stock':                                                   title  \\\n",
       " 0     một mã chứng khoán bất ngờ bị tự doanh ctck qu...   \n",
       " 1     một mã chứng khoán bất ngờ bị tự doanh ctck qu...   \n",
       " 2     một mã chứng khoán bất ngờ bị tự doanh ctck qu...   \n",
       " 3     một mã chứng khoán bất ngờ bị tự doanh ctck qu...   \n",
       " 4     một mã chứng khoán bất ngờ bị tự doanh ctck qu...   \n",
       " ...                                                 ...   \n",
       " 3073  cùng chiều khối ngoại, tự doanh ctck quay đầu ...   \n",
       " 3074  cùng chiều khối ngoại, tự doanh ctck quay đầu ...   \n",
       " 3075  cùng chiều khối ngoại, tự doanh ctck quay đầu ...   \n",
       " 3076  cùng chiều khối ngoại, tự doanh ctck quay đầu ...   \n",
       " 3077  cùng chiều khối ngoại, tự doanh ctck quay đầu ...   \n",
       " \n",
       "                                                 content  \n",
       " 0     tự doanh ctck ghi nhận bán ròng 130 tỷ đồng tr...  \n",
       " 1     trên sàn hose, tự doanh ctck bán ròng 127 tỷ đ...  \n",
       " 2     cụ thể, giao dịch của các ctck bán ròng mạnh n...  \n",
       " 3     ngược lại, nhóm ctck mua ròng mạnh nhất tại vi...  \n",
       " 4     trên hnx, tự doanh ctck bán ròng hơn 700 triệu...  \n",
       " ...                                                 ...  \n",
       " 3073  tự doanh ctck quay đầu bán ròng 54 tỷ đồng trê...  \n",
       " 3074  trên sàn hose, tự doanh ctck bán ròng 54 tỷ đồ...  \n",
       " 3075  cụ thể, nhóm ctck bán ròng mạnh nhất tại cổ ph...  \n",
       " 3076  ngược lại, giao dịch của các ctck mua ròng mạn...  \n",
       " 3077  trên hnx, tự doanh ctck bán ròng nhẹ, trong đó...  \n",
       " \n",
       " [3063 rows x 2 columns],\n",
       " 'thanhnien':                                                    title  \\\n",
       " 0      ông vũ thế phiệt làm chủ tịch acv thay ông lại...   \n",
       " 1      ông vũ thế phiệt làm chủ tịch acv thay ông lại...   \n",
       " 2      ông vũ thế phiệt làm chủ tịch acv thay ông lại...   \n",
       " 3      ông vũ thế phiệt làm chủ tịch acv thay ông lại...   \n",
       " 4      ông vũ thế phiệt làm chủ tịch acv thay ông lại...   \n",
       " ...                                                  ...   \n",
       " 11259  sawaco thực hiện mục tiêu khách hàng phải là t...   \n",
       " 11260  sawaco thực hiện mục tiêu khách hàng phải là t...   \n",
       " 11261  sawaco thực hiện mục tiêu khách hàng phải là t...   \n",
       " 11262  sawaco thực hiện mục tiêu khách hàng phải là t...   \n",
       " 11263  sawaco thực hiện mục tiêu khách hàng phải là t...   \n",
       " \n",
       "                                                  content  \n",
       " 0      ông vũ thế phiệt sinh năm 1973, là thạc sĩ quả...  \n",
       " 1      phát biểu nhận nhiệm vụ mới, ông phiệt cho biế...  \n",
       " 2      trong đó có các dự án như nhà ga hành khách t3...  \n",
       " 3      tại buổi lễ, ông nguyễn hoàng anh, chủ tịch ủy...  \n",
       " 4      ông lại xuân thanh là người gắn bó và có quá t...  \n",
       " ...                                                  ...  \n",
       " 11259  bên cạnh những kết quả đạt được, các chuyên gi...  \n",
       " 11260  tại tọa đàm, bà phan thị tuyết oanh, chuyên vi...  \n",
       " 11261  đại diện viện nghiên cứu phát triển tp.hcm kiế...  \n",
       " 11262  ts huỳnh văn thông, giảng viên khoa báo chí và...  \n",
       " 11263  ts thông nhấn mạnh ứng dụng chuyển đổi số là y...  \n",
       " \n",
       " [10988 rows x 2 columns],\n",
       " 'cafef_bank':                                                   title  \\\n",
       " 0     mừng 28 năm thành lập, vib ưu đãi không giới h...   \n",
       " 1     mừng 28 năm thành lập, vib ưu đãi không giới h...   \n",
       " 2     mừng 28 năm thành lập, vib ưu đãi không giới h...   \n",
       " 3     mừng 28 năm thành lập, vib ưu đãi không giới h...   \n",
       " 4     mừng 28 năm thành lập, vib ưu đãi không giới h...   \n",
       " ...                                                 ...   \n",
       " 5687     giá vàng nhẫn tròn trơn tăng mạnh, sjc đứng im   \n",
       " 5688     giá vàng nhẫn tròn trơn tăng mạnh, sjc đứng im   \n",
       " 5689     giá vàng nhẫn tròn trơn tăng mạnh, sjc đứng im   \n",
       " 5690     giá vàng nhẫn tròn trơn tăng mạnh, sjc đứng im   \n",
       " 5691     giá vàng nhẫn tròn trơn tăng mạnh, sjc đứng im   \n",
       " \n",
       "                                                 content  \n",
       " 0           chương trình diễn ra từ nay đến 09/10/2024.  \n",
       " 1     tặng iphone 15 pro max và vé ga xem anh trai s...  \n",
       " 2     trong thời gian từ nay đến 09/10, tất cả giao ...  \n",
       " 3     đặc biệt, 40 cặp vé ga xem anh trai say hi con...  \n",
       " 4     bên cạnh đó, 2.800 khách hàng đạt mốc 28 điểm ...  \n",
       " ...                                                 ...  \n",
       " 5687  đà tăng của giá vàng nhẫn tròn trơn xuất phát ...  \n",
       " 5688  giá vàng miếng sjc vẫn được các doanh nghiệp v...  \n",
       " 5689  giá vàng sjc giữ mức thấp nhưng người dân khó ...  \n",
       " 5690  cùng thời điểm, giá vàng thế giới ở mức 2.391 ...  \n",
       " 5691  trên thị trường tiền tệ, ngày 7/6 rơi vào ngày...  \n",
       " \n",
       " [5501 rows x 2 columns],\n",
       " 'thitruongtaichinh':                                                   title  \\\n",
       " 0     thanh khoản dư thừa, 3 ngân hàng mạnh tay phát...   \n",
       " 1     thanh khoản dư thừa, 3 ngân hàng mạnh tay phát...   \n",
       " 2     thanh khoản dư thừa, 3 ngân hàng mạnh tay phát...   \n",
       " 3     thanh khoản dư thừa, 3 ngân hàng mạnh tay phát...   \n",
       " 4     thanh khoản dư thừa, 3 ngân hàng mạnh tay phát...   \n",
       " ...                                                 ...   \n",
       " 2551  yêu cầu xuất hóa đơn từng lần bán lẻ xăng dầu ...   \n",
       " 2552  yêu cầu xuất hóa đơn từng lần bán lẻ xăng dầu ...   \n",
       " 2553  yêu cầu xuất hóa đơn từng lần bán lẻ xăng dầu ...   \n",
       " 2554  yêu cầu xuất hóa đơn từng lần bán lẻ xăng dầu ...   \n",
       " 2555  yêu cầu xuất hóa đơn từng lần bán lẻ xăng dầu ...   \n",
       " \n",
       "                                                 content  \n",
       " 0     bản tin mới nhất cho các khách hàng techcomban...  \n",
       " 1     tuy nhiên, lãi suất cho vay được dự báo sẽ tiế...  \n",
       " 2     trên thị trường thứ cấp, giá trị giao dịch tpd...  \n",
       " 3     tính từ đầu tháng 4/2024 đến thời điểm báo cáo...  \n",
       " 4     việc các ngân hàng đẩy mạnh phát hành trái phi...  \n",
       " ...                                                 ...  \n",
       " 2551  cũng theo bộ tài chính, quy định các công ty k...  \n",
       " 2552  tại điểm c khoản 14 điều 10 nghị định số 123 q...  \n",
       " 2553  tại điểm a.1 khoản 3 điều 22 nghị định số 123 ...  \n",
       " 2554  căn cứ quy định nêu trên, đối với các khách, c...  \n",
       " 2555  việc lập hđđt là theo phần mềm, được thực hiện...  \n",
       " \n",
       " [2483 rows x 2 columns],\n",
       " 'tuoitre':                                                   title  \\\n",
       " 0     lộ diện những đại gia bất động sản tầm cỡ nắm ...   \n",
       " 1     lộ diện những đại gia bất động sản tầm cỡ nắm ...   \n",
       " 2     lộ diện những đại gia bất động sản tầm cỡ nắm ...   \n",
       " 3     lộ diện những đại gia bất động sản tầm cỡ nắm ...   \n",
       " 4     lộ diện những đại gia bất động sản tầm cỡ nắm ...   \n",
       " ...                                                 ...   \n",
       " 9688  chứng khoán tuần mới thông tin nào khiến nhà đ...   \n",
       " 9689  chứng khoán tuần mới thông tin nào khiến nhà đ...   \n",
       " 9690  chứng khoán tuần mới thông tin nào khiến nhà đ...   \n",
       " 9691  chứng khoán tuần mới thông tin nào khiến nhà đ...   \n",
       " 9692  chứng khoán tuần mới thông tin nào khiến nhà đ...   \n",
       " \n",
       "                                                 content  \n",
       " 0     các ngân hàng tiếp tục công bố danh sách cổ đô...  \n",
       " 1     ngân hàng an bình abbank vừa công bố danh sách...  \n",
       " 2     ông vũ văn tiền - phó chủ tịch abbank, đồng th...  \n",
       " 3     song hai doanh nghiệp liên quan ông tiền nắm t...  \n",
       " 4     công ty cổ phần glexhomes - một doanh nghiệp t...  \n",
       " ...                                                 ...  \n",
       " 9688  ông hinh cũng nhìn nhận thị trường chứng khoán...  \n",
       " 9689  dòng tiền trong nước đang khá quyết liệt, được...  \n",
       " 9690  ông nguyễn thế minh cho biết việc phát hành tí...  \n",
       " 9691  với hoạt động phát hành tín phiếu đang diễn ra...  \n",
       " 9692  nhìn chung hút ròng tín phiếu là hoạt động ngh...  \n",
       " \n",
       " [9637 rows x 2 columns],\n",
       " 'cafef_business':                                                   title  \\\n",
       " 0     vinpearl lãi gần 2.600 tỷ trong nửa đầu năm 20...   \n",
       " 1     vinpearl lãi gần 2.600 tỷ trong nửa đầu năm 20...   \n",
       " 2     vinpearl lãi gần 2.600 tỷ trong nửa đầu năm 20...   \n",
       " 3     vinpearl lãi gần 2.600 tỷ trong nửa đầu năm 20...   \n",
       " 4     vinpearl lãi gần 2.600 tỷ trong nửa đầu năm 20...   \n",
       " ...                                                 ...   \n",
       " 4436  tiết lộ số thuế google, facebook, netflix... đ...   \n",
       " 4437  tiết lộ số thuế google, facebook, netflix... đ...   \n",
       " 4438  tiết lộ số thuế google, facebook, netflix... đ...   \n",
       " 4439  tiết lộ số thuế google, facebook, netflix... đ...   \n",
       " 4440  tiết lộ số thuế google, facebook, netflix... đ...   \n",
       " \n",
       "                                                 content  \n",
       " 0     mới đây, ctcp vinpearl đã công bố một số chỉ t...  \n",
       " 1     theo thông tin từ tập đoàn vingroup, hoạt động...  \n",
       " 2     tại thời điểm 30/6, vốn chủ sở hữu của vinpear...  \n",
       " 3     như vậy, quy mô tài sản của vinpearl đạt khoản...  \n",
       " 4     cuối tháng 8/2024, vinpearl đã phát hành 750 t...  \n",
       " ...                                                 ...  \n",
       " 4436  tổng cục thuế cũng ghi nhận 383 sàn giao dịch ...  \n",
       " 4437  theo đó, số liệu quản lý thuế trong 2 năm gần ...  \n",
       " 4438  đến năm 2024, ngành thuế đang quản lý 123.759 ...  \n",
       " 4439  về một số giải pháp quản lý thuế với thương mạ...  \n",
       " 4440  cùng với đó, rà soát hoàn thiện pháp luật liên...  \n",
       " \n",
       " [4400 rows x 2 columns]}"
      ]
     },
     "execution_count": 11,
     "metadata": {},
     "output_type": "execute_result"
    }
   ],
   "source": [
    "\n",
    "def clean(text):\n",
    "    if not isinstance(text, str): \n",
    "        return text\n",
    "    \n",
    "    text = re.sub(r'http\\S+|www.\\S+|[a-zA-Z0-9._%+-]+(?:\\.com|\\.vn|\\.org|\\.net|\\.edu)\\S*', '', text)\n",
    "    text = text.replace('./.', '.')\n",
    "    text = re.sub(r'[^\\w\\s.,!?/-]', '', text)\n",
    "    text = re.sub(r'\\s+', ' ', text)\n",
    "    text = text.lower().strip()\n",
    "    return text\n",
    "\n",
    "for name, df in tqdm(dataframes.items(), desc=\"processing\"):\n",
    "    for col in df.select_dtypes(include=['object']).columns:\n",
    "        dataframes[name][col] = df[col].apply(clean)\n",
    "\n",
    "dataframes"
   ]
  },
  {
   "cell_type": "code",
   "execution_count": 12,
   "metadata": {},
   "outputs": [
    {
     "data": {
      "text/plain": [
       "{'vnexpress': 0,\n",
       " 'thoibaotaichinh': 0,\n",
       " 'thitruongtaichinhtiente': 0,\n",
       " 'vietstock': 0,\n",
       " 'tapchitaichinh': 0,\n",
       " 'vneconomy2': 0,\n",
       " 'Vneconomy(1)': 1,\n",
       " 'cafef_stock': 0,\n",
       " 'thanhnien': 0,\n",
       " 'cafef_bank': 0,\n",
       " 'thitruongtaichinh': 1,\n",
       " 'tuoitre': 1,\n",
       " 'cafef_business': 0}"
      ]
     },
     "execution_count": 12,
     "metadata": {},
     "output_type": "execute_result"
    }
   ],
   "source": [
    "{name: df.duplicated().sum() for name, df in dataframes.items()}"
   ]
  },
  {
   "cell_type": "code",
   "execution_count": 13,
   "metadata": {},
   "outputs": [
    {
     "name": "stdout",
     "output_type": "stream",
     "text": [
      "                                                  title  \\\n",
      "4710  thí điểm chính sách đặc thù, dùng ngân sách đị...   \n",
      "4722  thí điểm chính sách đặc thù, dùng ngân sách đị...   \n",
      "\n",
      "                                                content  \n",
      "4710  ubnd tỉnh hậu giang làm cơ quan chủ quản dự án...  \n",
      "4722  ubnd tỉnh hậu giang làm cơ quan chủ quản dự án...  \n",
      "                                               title  \\\n",
      "299  xe điện trung quốc tấn công thị trường việt nam   \n",
      "301  xe điện trung quốc tấn công thị trường việt nam   \n",
      "\n",
      "                                               content  \n",
      "299  một trong những nguyên nhân để xe điện trung q...  \n",
      "301  một trong những nguyên nhân để xe điện trung q...  \n",
      "                                                  title  \\\n",
      "7334  chờ đón điều gì tại đại hội cổ đông techcomban...   \n",
      "7342  chờ đón điều gì tại đại hội cổ đông techcomban...   \n",
      "\n",
      "                                                content  \n",
      "7334  chi phí vốn của ngân hàng được kỳ vọng tiếp tụ...  \n",
      "7342  chi phí vốn của ngân hàng được kỳ vọng tiếp tụ...  \n"
     ]
    }
   ],
   "source": [
    "for name, df in dataframes.items():\n",
    "    duplicates = df[df.duplicated(keep=False)] \n",
    "    if not duplicates.empty:\n",
    "        print(duplicates)"
   ]
  },
  {
   "cell_type": "code",
   "execution_count": 14,
   "metadata": {},
   "outputs": [
    {
     "data": {
      "text/plain": [
       "{'vnexpress': 0,\n",
       " 'thoibaotaichinh': 0,\n",
       " 'thitruongtaichinhtiente': 0,\n",
       " 'vietstock': 0,\n",
       " 'tapchitaichinh': 0,\n",
       " 'vneconomy2': 0,\n",
       " 'Vneconomy(1)': 0,\n",
       " 'cafef_stock': 0,\n",
       " 'thanhnien': 0,\n",
       " 'cafef_bank': 0,\n",
       " 'thitruongtaichinh': 0,\n",
       " 'tuoitre': 0,\n",
       " 'cafef_business': 0}"
      ]
     },
     "execution_count": 14,
     "metadata": {},
     "output_type": "execute_result"
    }
   ],
   "source": [
    "for name, df in dataframes.items():\n",
    "    dataframes[name].drop_duplicates(inplace=True)\n",
    "{name: df.duplicated().sum() for name, df in dataframes.items()}"
   ]
  },
  {
   "cell_type": "code",
   "execution_count": 15,
   "metadata": {},
   "outputs": [],
   "source": [
    "# pd.set_option('display.max_colwidth', None) \n",
    "\n",
    "# for key, df in dataframes.items():\n",
    "#     dataframes[key] = df.groupby('title')['content'].apply(' '.join).reset_index()\n",
    "# print(dataframes['vnexpress'])"
   ]
  },
  {
   "cell_type": "code",
   "execution_count": 16,
   "metadata": {},
   "outputs": [],
   "source": [
    "linhtinh = r'trytryforconst.*document.queryselectorall.*'\n",
    "\n",
    "for key in dataframes:\n",
    "    dataframes[key] = dataframes[key][~dataframes[key]['content'].str.contains(linhtinh, regex=True, na=False)]\n",
    "    dataframes[key] = dataframes[key][dataframes[key]['content'].str.split().str.len() > 4]\n",
    "    \n",
    "    dataframes[key] = dataframes[key][~((dataframes[key]['content'].str.contains('phiên an theo', na=False)) & \n",
    "                                                  (dataframes[key]['content'].str.split().str.len() < 15))]\n"
   ]
  },
  {
   "cell_type": "code",
   "execution_count": 17,
   "metadata": {},
   "outputs": [
    {
     "data": {
      "text/html": [
       "<div>\n",
       "<style scoped>\n",
       "    .dataframe tbody tr th:only-of-type {\n",
       "        vertical-align: middle;\n",
       "    }\n",
       "\n",
       "    .dataframe tbody tr th {\n",
       "        vertical-align: top;\n",
       "    }\n",
       "\n",
       "    .dataframe thead th {\n",
       "        text-align: right;\n",
       "    }\n",
       "</style>\n",
       "<table border=\"1\" class=\"dataframe\">\n",
       "  <thead>\n",
       "    <tr style=\"text-align: right;\">\n",
       "      <th></th>\n",
       "      <th>title</th>\n",
       "      <th>content</th>\n",
       "    </tr>\n",
       "  </thead>\n",
       "  <tbody>\n",
       "    <tr>\n",
       "      <th>0</th>\n",
       "      <td>1 triệu usd hỗ trợ phát triển các đô thị loại ii</td>\n",
       "      <td>mục tiêu chính là hỗ trợ các chủ dự án lập b...</td>\n",
       "    </tr>\n",
       "    <tr>\n",
       "      <th>1</th>\n",
       "      <td>1,2 tỷ đồng hỗ trợ kinh phí hoạt động sở ngoại...</td>\n",
       "      <td>theo đó, căn cứ quyết định của ubnd tỉnh yên b...</td>\n",
       "    </tr>\n",
       "    <tr>\n",
       "      <th>2</th>\n",
       "      <td>1.106 tỷ đồng cho công trình đưa điện ra đảo c...</td>\n",
       "      <td>công trình đưa điện lưới ra huyện đảo cô tô đã...</td>\n",
       "    </tr>\n",
       "    <tr>\n",
       "      <th>3</th>\n",
       "      <td>1.170 tấn gạo cứu đói cho tỉnh quảng ngãi năm ...</td>\n",
       "      <td>xuất cấp gạo hỗ trợ người dân quảng ngãi. ảnh ...</td>\n",
       "    </tr>\n",
       "    <tr>\n",
       "      <th>4</th>\n",
       "      <td>1.281 tỷ đồng hỗ trợ giảm tổn thất sau thu hoạch</td>\n",
       "      <td>chính sách hỗ trợ nhằm giảm tổn thất sau thu h...</td>\n",
       "    </tr>\n",
       "  </tbody>\n",
       "</table>\n",
       "</div>"
      ],
      "text/plain": [
       "                                               title  \\\n",
       "0   1 triệu usd hỗ trợ phát triển các đô thị loại ii   \n",
       "1  1,2 tỷ đồng hỗ trợ kinh phí hoạt động sở ngoại...   \n",
       "2  1.106 tỷ đồng cho công trình đưa điện ra đảo c...   \n",
       "3  1.170 tấn gạo cứu đói cho tỉnh quảng ngãi năm ...   \n",
       "4   1.281 tỷ đồng hỗ trợ giảm tổn thất sau thu hoạch   \n",
       "\n",
       "                                             content  \n",
       "0  mục tiêu chính là hỗ trợ các chủ dự án lập b...  \n",
       "1  theo đó, căn cứ quyết định của ubnd tỉnh yên b...  \n",
       "2  công trình đưa điện lưới ra huyện đảo cô tô đã...  \n",
       "3  xuất cấp gạo hỗ trợ người dân quảng ngãi. ảnh ...  \n",
       "4  chính sách hỗ trợ nhằm giảm tổn thất sau thu h...  "
      ]
     },
     "execution_count": 17,
     "metadata": {},
     "output_type": "execute_result"
    }
   ],
   "source": [
    "merged = {}\n",
    "for source, df in dataframes.items():\n",
    "    df['title'] = df['title'].str.strip()\n",
    "    if source not in merged:\n",
    "        merged[source] = pd.DataFrame(columns=['title', 'content'])\n",
    "\n",
    "    grouped = df.groupby('title')['content'].apply(lambda x: ' '.join(x)).reset_index()\n",
    "    merged[source] = pd.concat([merged[source], grouped], ignore_index=True)\n",
    "merged['thoibaotaichinh'].head(5)"
   ]
  },
  {
   "cell_type": "code",
   "execution_count": 19,
   "metadata": {},
   "outputs": [
    {
     "name": "stderr",
     "output_type": "stream",
     "text": [
      "100%|██████████| 13/13 [00:03<00:00,  3.43it/s]"
     ]
    },
    {
     "name": "stdout",
     "output_type": "stream",
     "text": [
      "saved\n"
     ]
    },
    {
     "name": "stderr",
     "output_type": "stream",
     "text": [
      "\n"
     ]
    }
   ],
   "source": [
    "cleaned_folder = os.path.abspath('data_merged')\n",
    "\n",
    "if not os.path.exists(cleaned_folder):\n",
    "    os.makedirs(cleaned_folder)\n",
    "try:\n",
    "    for name, df in tqdm(merged.items()):\n",
    "        cleaned_file = os.path.join(cleaned_folder, f\"{name}_merged.xlsx\")\n",
    "        df.to_excel(cleaned_file, index=False)\n",
    "    print(f\"saved\")\n",
    "except Exception as e:\n",
    "    print(f\"error: {e}\")"
   ]
  }
 ],
 "metadata": {
  "kernelspec": {
   "display_name": "Python 3",
   "language": "python",
   "name": "python3"
  },
  "language_info": {
   "codemirror_mode": {
    "name": "ipython",
    "version": 3
   },
   "file_extension": ".py",
   "mimetype": "text/x-python",
   "name": "python",
   "nbconvert_exporter": "python",
   "pygments_lexer": "ipython3",
   "version": "3.10.13"
  }
 },
 "nbformat": 4,
 "nbformat_minor": 2
}
