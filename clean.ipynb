{
 "cells": [
  {
   "cell_type": "code",
   "execution_count": 118,
   "metadata": {},
   "outputs": [],
   "source": [
    "import pandas as pd\n",
    "import os\n",
    "import regex as re\n",
    "from tqdm import tqdm"
   ]
  },
  {
   "cell_type": "code",
   "execution_count": 119,
   "metadata": {},
   "outputs": [
    {
     "name": "stderr",
     "output_type": "stream",
     "text": [
      "  0%|          | 0/13 [00:00<?, ?it/s]"
     ]
    },
    {
     "name": "stdout",
     "output_type": "stream",
     "text": [
      "reading: n\n"
     ]
    },
    {
     "name": "stderr",
     "output_type": "stream",
     "text": [
      "  8%|▊         | 1/13 [00:00<00:03,  3.44it/s]"
     ]
    },
    {
     "name": "stdout",
     "output_type": "stream",
     "text": [
      "reading vnexpress.xlsx: vnexpress\n",
      "reading: h\n"
     ]
    },
    {
     "name": "stderr",
     "output_type": "stream",
     "text": [
      " 23%|██▎       | 3/13 [00:01<00:03,  2.92it/s]"
     ]
    },
    {
     "name": "stdout",
     "output_type": "stream",
     "text": [
      "reading thoibaotaichinh.xlsx: thoibaotaichinh\n",
      "reading: h\n",
      "reading thitruongtaichinhtiente.xlsx: thitruongtaichinhtiente\n",
      "reading: i\n",
      "reading vietstock.xlsx: vietstock\n",
      "reading: a\n"
     ]
    },
    {
     "name": "stderr",
     "output_type": "stream",
     "text": [
      " 38%|███▊      | 5/13 [00:01<00:01,  4.79it/s]"
     ]
    },
    {
     "name": "stdout",
     "output_type": "stream",
     "text": [
      "reading tapchitaichinh.xlsx: tapchitaichinh\n",
      "reading: n\n",
      "reading vneconomy2.xlsx: vneconomy2\n",
      "reading: n\n"
     ]
    },
    {
     "name": "stderr",
     "output_type": "stream",
     "text": [
      " 54%|█████▍    | 7/13 [00:01<00:01,  5.95it/s]"
     ]
    },
    {
     "name": "stdout",
     "output_type": "stream",
     "text": [
      "reading Vneconomy(1).xlsx: Vneconomy(1)\n",
      "reading: a\n",
      "reading cafef_stock.xlsx: cafef_stock\n",
      "reading: h\n"
     ]
    },
    {
     "name": "stderr",
     "output_type": "stream",
     "text": [
      " 77%|███████▋  | 10/13 [00:02<00:00,  5.11it/s]"
     ]
    },
    {
     "name": "stdout",
     "output_type": "stream",
     "text": [
      "reading thanhnien.xlsx: thanhnien\n",
      "reading: a\n",
      "reading cafef_bank.xlsx: cafef_bank\n",
      "reading: h\n",
      "reading thitruongtaichinh.xlsx: thitruongtaichinh\n",
      "reading: u\n"
     ]
    },
    {
     "name": "stderr",
     "output_type": "stream",
     "text": [
      "100%|██████████| 13/13 [00:02<00:00,  4.90it/s]"
     ]
    },
    {
     "name": "stdout",
     "output_type": "stream",
     "text": [
      "reading tuoitre.xlsx: tuoitre\n",
      "reading: a\n",
      "reading cafef_business.xlsx: cafef_business\n"
     ]
    },
    {
     "name": "stderr",
     "output_type": "stream",
     "text": [
      "\n"
     ]
    },
    {
     "data": {
      "text/plain": [
       "dict_keys(['vnexpress', 'thoibaotaichinh', 'thitruongtaichinhtiente', 'vietstock', 'tapchitaichinh', 'vneconomy2', 'Vneconomy(1)', 'cafef_stock', 'thanhnien', 'cafef_bank', 'thitruongtaichinh', 'tuoitre', 'cafef_business'])"
      ]
     },
     "execution_count": 119,
     "metadata": {},
     "output_type": "execute_result"
    }
   ],
   "source": [
    "folder_path = 'raw_data/extracted'\n",
    "\n",
    "absfolder = os.path.abspath(folder_path)\n",
    "\n",
    "if not os.path.exists(absfolder):\n",
    "    print(f\"folder {absfolder} not exist\")\n",
    "else:\n",
    "    dataframes = {}\n",
    "\n",
    "    for filename in tqdm(os.listdir(absfolder)):\n",
    "        if filename.endswith(\".xlsx\"):\n",
    "            file_path = os.path.join(absfolder, filename)\n",
    "            dfnames = os.path.splitext(filename)[0]\n",
    "            print(f\"reading: {filename[1]}\")\n",
    "            \n",
    "            try:\n",
    "                dataframes[dfnames] = pd.read_excel(file_path)\n",
    "                print(f\"reading {filename}: {dfnames}\")\n",
    "            except Exception as e:\n",
    "                print(f\"cant read {filename}: {repr(e)}\")\n",
    "\n",
    "dataframes.keys()\n"
   ]
  },
  {
   "cell_type": "code",
   "execution_count": 120,
   "metadata": {},
   "outputs": [
    {
     "name": "stdout",
     "output_type": "stream",
     "text": [
      "vnexpress Index(['Field2', 'Field1'], dtype='object')\n",
      "thoibaotaichinh Index(['Field2', 'Field1'], dtype='object')\n",
      "thitruongtaichinhtiente Index(['Field2', 'Field1'], dtype='object')\n",
      "vietstock Index(['Title', 'Content'], dtype='object')\n",
      "tapchitaichinh Index(['Field2', 'Field1'], dtype='object')\n",
      "vneconomy2 Index(['Field2', 'Field'], dtype='object')\n",
      "Vneconomy(1) Index(['title', 'content'], dtype='object')\n",
      "cafef_stock Index(['Field2', 'Field1'], dtype='object')\n",
      "thanhnien Index(['Text', 'Field1'], dtype='object')\n",
      "cafef_bank Index(['Field2', 'Field1'], dtype='object')\n",
      "thitruongtaichinh Index(['Field2', 'Field1'], dtype='object')\n",
      "tuoitre Index(['Field2', 'Field1'], dtype='object')\n",
      "cafef_business Index(['Text', 'Field1'], dtype='object')\n"
     ]
    }
   ],
   "source": [
    "dataframes\n",
    "for key, val in dataframes.items():\n",
    "    print (key, val.columns)"
   ]
  },
  {
   "cell_type": "code",
   "execution_count": 121,
   "metadata": {},
   "outputs": [],
   "source": [
    "def rename_columns(dataframes):\n",
    "    for df_name, df in dataframes.items():\n",
    "        if df.shape[1] >= 2:  \n",
    "            df.columns = ['title', 'content'] + list(df.columns[2:])  \n",
    "        else:\n",
    "            print(f\"df it hon 2 cot, khong the rename\")\n",
    "\n",
    "rename_columns(dataframes)\n"
   ]
  },
  {
   "cell_type": "code",
   "execution_count": 122,
   "metadata": {},
   "outputs": [
    {
     "name": "stdout",
     "output_type": "stream",
     "text": [
      "vnexpress Index(['title', 'content'], dtype='object')\n",
      "thoibaotaichinh Index(['title', 'content'], dtype='object')\n",
      "thitruongtaichinhtiente Index(['title', 'content'], dtype='object')\n",
      "vietstock Index(['title', 'content'], dtype='object')\n",
      "tapchitaichinh Index(['title', 'content'], dtype='object')\n",
      "vneconomy2 Index(['title', 'content'], dtype='object')\n",
      "Vneconomy(1) Index(['title', 'content'], dtype='object')\n",
      "cafef_stock Index(['title', 'content'], dtype='object')\n",
      "thanhnien Index(['title', 'content'], dtype='object')\n",
      "cafef_bank Index(['title', 'content'], dtype='object')\n",
      "thitruongtaichinh Index(['title', 'content'], dtype='object')\n",
      "tuoitre Index(['title', 'content'], dtype='object')\n",
      "cafef_business Index(['title', 'content'], dtype='object')\n"
     ]
    }
   ],
   "source": [
    "for key, df in dataframes.items():\n",
    "    print (key, df.columns)"
   ]
  },
  {
   "cell_type": "code",
   "execution_count": 123,
   "metadata": {},
   "outputs": [
    {
     "data": {
      "text/plain": [
       "{'vnexpress': title      0\n",
       " content    2\n",
       " dtype: int64,\n",
       " 'thoibaotaichinh': title         0\n",
       " content    4545\n",
       " dtype: int64,\n",
       " 'thitruongtaichinhtiente': title      0\n",
       " content    1\n",
       " dtype: int64,\n",
       " 'vietstock': title       0\n",
       " content    47\n",
       " dtype: int64,\n",
       " 'tapchitaichinh': title       0\n",
       " content    23\n",
       " dtype: int64,\n",
       " 'vneconomy2': title      0\n",
       " content    0\n",
       " dtype: int64,\n",
       " 'Vneconomy(1)': title      0\n",
       " content    6\n",
       " dtype: int64,\n",
       " 'cafef_stock': title       0\n",
       " content    15\n",
       " dtype: int64,\n",
       " 'thanhnien': title        0\n",
       " content    276\n",
       " dtype: int64,\n",
       " 'cafef_bank': title        0\n",
       " content    191\n",
       " dtype: int64,\n",
       " 'thitruongtaichinh': title       0\n",
       " content    74\n",
       " dtype: int64,\n",
       " 'tuoitre': title       8\n",
       " content    48\n",
       " dtype: int64,\n",
       " 'cafef_business': title       0\n",
       " content    40\n",
       " dtype: int64}"
      ]
     },
     "execution_count": 123,
     "metadata": {},
     "output_type": "execute_result"
    }
   ],
   "source": [
    "{name: df.isnull().sum() for name, df in dataframes.items()}"
   ]
  },
  {
   "cell_type": "code",
   "execution_count": 124,
   "metadata": {},
   "outputs": [
    {
     "data": {
      "text/plain": [
       "{'vnexpress': title      0\n",
       " content    0\n",
       " dtype: int64,\n",
       " 'thoibaotaichinh': title      0\n",
       " content    0\n",
       " dtype: int64,\n",
       " 'thitruongtaichinhtiente': title      0\n",
       " content    0\n",
       " dtype: int64,\n",
       " 'vietstock': title      0\n",
       " content    0\n",
       " dtype: int64,\n",
       " 'tapchitaichinh': title      0\n",
       " content    0\n",
       " dtype: int64,\n",
       " 'vneconomy2': title      0\n",
       " content    0\n",
       " dtype: int64,\n",
       " 'Vneconomy(1)': title      0\n",
       " content    0\n",
       " dtype: int64,\n",
       " 'cafef_stock': title      0\n",
       " content    0\n",
       " dtype: int64,\n",
       " 'thanhnien': title      0\n",
       " content    0\n",
       " dtype: int64,\n",
       " 'cafef_bank': title      0\n",
       " content    0\n",
       " dtype: int64,\n",
       " 'thitruongtaichinh': title      0\n",
       " content    0\n",
       " dtype: int64,\n",
       " 'tuoitre': title      0\n",
       " content    0\n",
       " dtype: int64,\n",
       " 'cafef_business': title      0\n",
       " content    0\n",
       " dtype: int64}"
      ]
     },
     "execution_count": 124,
     "metadata": {},
     "output_type": "execute_result"
    }
   ],
   "source": [
    "for name, df in dataframes.items():\n",
    "    dataframes[name].dropna(inplace=True)\n",
    "{name: df.isnull().sum() for name, df in dataframes.items()}\n"
   ]
  },
  {
   "cell_type": "code",
   "execution_count": 125,
   "metadata": {},
   "outputs": [
    {
     "data": {
      "text/plain": [
       "{'vnexpress': 0,\n",
       " 'thoibaotaichinh': 1,\n",
       " 'thitruongtaichinhtiente': 0,\n",
       " 'vietstock': 0,\n",
       " 'tapchitaichinh': 0,\n",
       " 'vneconomy2': 0,\n",
       " 'Vneconomy(1)': 0,\n",
       " 'cafef_stock': 0,\n",
       " 'thanhnien': 0,\n",
       " 'cafef_bank': 0,\n",
       " 'thitruongtaichinh': 0,\n",
       " 'tuoitre': 0,\n",
       " 'cafef_business': 1}"
      ]
     },
     "execution_count": 125,
     "metadata": {},
     "output_type": "execute_result"
    }
   ],
   "source": [
    "{name: df.duplicated().sum() for name, df in dataframes.items()}"
   ]
  },
  {
   "cell_type": "code",
   "execution_count": 126,
   "metadata": {},
   "outputs": [
    {
     "data": {
      "text/plain": [
       "{'vnexpress': 0,\n",
       " 'thoibaotaichinh': 0,\n",
       " 'thitruongtaichinhtiente': 0,\n",
       " 'vietstock': 0,\n",
       " 'tapchitaichinh': 0,\n",
       " 'vneconomy2': 0,\n",
       " 'Vneconomy(1)': 0,\n",
       " 'cafef_stock': 0,\n",
       " 'thanhnien': 0,\n",
       " 'cafef_bank': 0,\n",
       " 'thitruongtaichinh': 0,\n",
       " 'tuoitre': 0,\n",
       " 'cafef_business': 0}"
      ]
     },
     "execution_count": 126,
     "metadata": {},
     "output_type": "execute_result"
    }
   ],
   "source": [
    "for name, df in dataframes.items():\n",
    "    dataframes[name].drop_duplicates(inplace=True)\n",
    "{name: df.duplicated().sum() for name, df in dataframes.items()}"
   ]
  },
  {
   "cell_type": "code",
   "execution_count": 127,
   "metadata": {},
   "outputs": [
    {
     "name": "stderr",
     "output_type": "stream",
     "text": [
      "processing: 100%|██████████| 13/13 [00:08<00:00,  1.59it/s]\n"
     ]
    },
    {
     "data": {
      "text/plain": [
       "{'vnexpress':                                                              title  \\\n",
       " 0       bà harris muốn tăng hỗ trợ gấp 10 lần cho doanh nghiệp nhỏ   \n",
       " 1       bà harris muốn tăng hỗ trợ gấp 10 lần cho doanh nghiệp nhỏ   \n",
       " 2                               ceo yeah1 lĩnh thù lao 1,5 tỷ đồng   \n",
       " 3     hơn ba triệu lượt khách đến vincom vui chơi, mua sắm dịp 2/9   \n",
       " 4                               ceo yeah1 lĩnh thù lao 1,5 tỷ đồng   \n",
       " ...                                                            ...   \n",
       " 5416               vincom khai trương hai trung tâm thương mại mới   \n",
       " 5417               vincom khai trương hai trung tâm thương mại mới   \n",
       " 5418               vincom khai trương hai trung tâm thương mại mới   \n",
       " 5419               vincom khai trương hai trung tâm thương mại mới   \n",
       " 5420               vincom khai trương hai trung tâm thương mại mới   \n",
       " \n",
       "                                                                                                                                                                                                                                                                                                                                                content  \n",
       " 0                                                                                                                         trên reuters, một quan chức trong chiến dịch tranh cử cho biết hôm 4/9, bà harris dự kiến công bố đề xuất giảm thu nhập chịu thuế lên tới 50.000 usd cho doanh nghiệp nhỏ thành lập mới. mức hỗ trợ này gấp 10 lần hiện tại.  \n",
       " 1                                             tính trung bình, chi phí để thành lập một doanh nghiệp mới tại mỹ là 40.000 usd. hiện tại, nước này có khoảng 33 triệu doanh nghiệp nhỏ, tạo ra 46 việc làm trong lĩnh vực tư nhân, theo cơ quan quản lý doanh nghiệp nhỏ sba. các công ty này cũng tạo ra khoảng 70 việc làm mới cho mỹ kể từ năm 2019.  \n",
       " 2                   trong báo cáo tài chính hợp nhất bán niên sau soát xét, công ty cổ phần tập đoàn yeah1 yeg cho biết trả thu nhập và thù lao cho bà ngô thị vân hạnh - tổng giám đốc kiêm thành viên hội đồng quản trị - tổng cộng 1,5 tỷ đồng, tăng gấp đôi so với cùng kỳ năm trước. trung bình mỗi tháng, bà hạnh nhận về khoảng 250 triệu đồng.  \n",
       " 3                                                                                                                                                           dịp nghỉ lễ 2/9 kéo dài 4 ngày, nhiều gia đình đã lựa chọn vui chơi, giải trí tại các trung tâm thương mại của vincom, khiến lượng khách hàng gia tăng gấp hai, ba lần so với bình thường.  \n",
       " 4                                                                                             ceo này là một trong hai lãnh đạo của yeah1 nhận thù lao nửa đầu năm nay, bên cạnh phó tổng giám đốc chế đoàn viên gần 709 triệu đồng. các lãnh đạo còn lại, gồm chủ tịch hội đồng quản trị lê phương thảo không nhận thù lao hay thu nhập nào trong kỳ.  \n",
       " ...                                                                                                                                                                                                                                                                                                                                                ...  \n",
       " 5416                                                                                                                                                   vincom plaza bắc giang quy tụ 50 thương hiệu việt nam và quốc tế như dookki, long wang, pizza home vascara, pierre cardin funny kids, games world, go pick... đáp ứng nhu cầu của mọi lứa tuổi.  \n",
       " 5417  tại các cơ sở mới, vincom triển khai nhiều chương trình ưu đãi. vincom mega mall grand park có chương trình vòng quay may mắn diễn ra từ ngày 15/7 đến 15/9. với hoá đơn từ 500.000 đồng, khách hàng nhận một lần quay để nhận phần thưởng áo thun uniqlo, voucher mệnh giá 50.000 - 200.000 đồng từ các thương hiệu beauty box, crocs, runam...  \n",
       " 5418              với vincom plaza bắc giang, khách hàng được thưởng thức chuỗi sự kiện âm nhạc và chương trình ưu đãi kéo dài từ ngày 27/7 đến 11/08, bao gồm đêm nhạc acoustic jazz với chủ đề dream night in vincom, đêm nhạc dấu ấn bắc giang, bốc thăm trúng thưởng xe máy điện vinfast 27/7 - 10/8, vòng quay may mắn 27-28/7, 3-4/8, 10-11/8...  \n",
       " 5419                                                                                  trong 30 ngày qua, vincom đã ra mắt bốn trung tâm thương mại, đánh dấu cột mốc có mặt tại 47 tỉnh thành với độ phủ hơn 1,83 triệu m2 mặt sàn cho thuê, đồng thời, mang đến những trải nghiệm mua sắm hiện đại, dịch vụ tiện ích và không gian vui chơi giải trí.  \n",
       " 5420                                                                                                                                                                                                                                                                                                                                           nhật lệ  \n",
       " \n",
       " [5419 rows x 2 columns],\n",
       " 'thoibaotaichinh':                                                                       title  \\\n",
       " 0                        bộ tài chính tuyển dụng nhân viên lễ tân và lái xe   \n",
       " 1                        bộ tài chính tuyển dụng nhân viên lễ tân và lái xe   \n",
       " 2                        bộ tài chính tuyển dụng nhân viên lễ tân và lái xe   \n",
       " 3                        bộ tài chính tuyển dụng nhân viên lễ tân và lái xe   \n",
       " 4                        bộ tài chính tuyển dụng nhân viên lễ tân và lái xe   \n",
       " ...                                                                     ...   \n",
       " 18224          nhiều huyện tại vĩnh phúc còn tồn đọng dự án chưa quyết toán   \n",
       " 18228  9 doanh nghiệp hàng hải tham gia thí điểm cơ chế một cửa giai đoạn 1   \n",
       " 18229  9 doanh nghiệp hàng hải tham gia thí điểm cơ chế một cửa giai đoạn 1   \n",
       " 18230  9 doanh nghiệp hàng hải tham gia thí điểm cơ chế một cửa giai đoạn 1   \n",
       " 18232  9 doanh nghiệp hàng hải tham gia thí điểm cơ chế một cửa giai đoạn 1   \n",
       " \n",
       "                                                                                                                                                                                                                                                                                                                                                                                                                                                                   content  \n",
       " 0                                                                                                                                                                                                                                đối với nhân viên lễ tân làm việc 8 giờ/ngày, 5 ngày/tuần tại cơ quan bộ tài chính số 28 trần hưng đạo, phường phan chu trinh, quận hoàn kiếm, tp. hà nội, hoặc số 6, 8 phan huy chú, phường phan chu trinh, quận hoàn kiếm, tp. hà nội.  \n",
       " 1                                                                                                                 đối với nhân viên lái xe làm việc 8 giờ/ngày, 5 ngày/tuần và khi phát sinh được tính thời gian làm thêm giờ theo quy định tại đội xe bộ tài chính 23 tông đản, phường tràng tiền, quận hoàn kiếm, tp. hà nội, hoặc cơ quan đại diện văn phòng bộ tài chính tại tp. hồ chí minh số 138 nguyễn thị minh khai, phường võ thị sáu, quận 3, tp. hồ chí minh.  \n",
       " 2                yêu cầu chung có một quốc tịch là quốc tịch việt nam có lý lịch rõ ràng không trong thời gian bị truy cứu trách nhiệm hình sự, hoặc chấp hành án phạt tù, cải tạo không giam giữ, hoặc đang bị áp dụng biện pháp giáo dục tại xã, phường, thị trấn đưa vào trường giáo dưỡng đưa vào cơ sở giáo dục bắt buộc và đưa vào cơ sở cai nghiện bắt buộc không trong thời gian bị cấm hành nghề hoặc cấm làm công việc liên quan đến công việc ký kết hợp đồng.  \n",
       " 3      yêu cầu cụ thể đối với nhân viên lễ tân nữ đủ 21 tuổi trở lên và không quá 35 tuổi cao 1m60 trở lên có bằng tốt nghiệp cao đẳng trở lên ngoại ngữ tiếng anh tương đương trình độ b trở lên ưu tiên ứng viên có ít nhất 1 năm kinh nghiệm có khả năng giao tiếp tốt, ngoại hình ưa nhìn, tác phong làm việc chuyên nghiệp, có tinh thần trách nhiệm trong công việc, có kỹ năng xử lý tình huống tốt để giải quyết những vấn đề phát sinh trong quá trình làm việc.  \n",
       " 4                                                                                                                                                                yêu cầu đối với lái xe nam đủ 21 tuổi trở lên và không quá 40 tuổi tốt nghiệp thpt trở lên có bằng lái xe chuyên nghiệp từ b2 trở lên và kinh nghiệm lái xe ít nhất 5 năm đạt yêu cầu khi sát hạch thực tế lái xe có phẩm chất đạo đức tốt, có tinh thần phục vụ nhiệt tình, trách nhiệm, chuyên nghiệp.  \n",
       " ...                                                                                                                                                                                                                                                                                                                                                                                                                                                                   ...  \n",
       " 18224                                                                                                                                                                                                                                                                                                                                                                                                                                                           hạnh thảo  \n",
       " 18228                                                    theo đó, cục hàng hải đề xuất chọn 9 dn tham gia nsw để triển khai kết nối chính thức cổng thông tin một cửa quốc gia với hệ thống quản lý chuyên ngành của bộ giao thông vận tải vào ngày 30/11/2014. căn cứ vào hoạt động làm thủ tục cho tàu thuyền xuất cảnh, nhập cảnh và quá cảnh tại 3 khu vực hải phòng, tp. hồ chí minh và vũng tàu, cục hàng hải cho biết mỗi khu vực sẽ chọn 3 dn thực hiện thí điểm.  \n",
       " 18229                       cụ thể, tại hải phòng có các công ty sitc việt nam, dịch vụ hàng hải nhật thăng và chi nhánh công ty cp vận tải và thuê tàu tại hải phòng vietfrancht. tại tp. hồ chí minh lựa chọn hanjin shipping việt nam, vitamas hãng nyk line vietnam và công ty đại lý liên hiệp vận chuyển gemadept. tại vũng tàu, các công ty tham gia gồm vận tải dầu khí sài gòn sp shipping, hoyer transport việt nam và dịch vụ giao nhận vận tải sao đại dương.  \n",
       " 18230                                                                                                                                     trước đó, ngày 27/10/2014, tổng cục hải quan đã có văn bản gửi cục hàng hải đề nghị xem xét, lựa chọn các dn tham gia thí điểm nsw. tại văn bản này, tchq đề xuất giai đoạn 1 chọn 9 dn tham gia, giai đoạn 2 4/2015 đến 9/2015 sẽ triển khai cho 20 dn và giai đoạn 3 là mở rộng triển khai cho tất cả các dn vận tải còn lại.  \n",
       " 18232                                                                                                                                                                                                                                                                                                                                                                                                                                                           theo tchq  \n",
       " \n",
       " [13687 rows x 2 columns],\n",
       " 'thitruongtaichinhtiente':                                                                                                                              title  \\\n",
       " 0                                       một dự án khu du lịch sinh thái ở thanh hóa được phê duyệt nâng vốn lên hơn 11.000 tỷ đồng   \n",
       " 1                                       một dự án khu du lịch sinh thái ở thanh hóa được phê duyệt nâng vốn lên hơn 11.000 tỷ đồng   \n",
       " 2                                       một dự án khu du lịch sinh thái ở thanh hóa được phê duyệt nâng vốn lên hơn 11.000 tỷ đồng   \n",
       " 3                                       một dự án khu du lịch sinh thái ở thanh hóa được phê duyệt nâng vốn lên hơn 11.000 tỷ đồng   \n",
       " 4     đề xuất hướng giải quyết 8.800 hồ sơ nhà đất bị tắc nhận hồ sơ thời điểm nào thì áp dụng quy định pháp luật tại thời điểm đó   \n",
       " ...                                                                                                                            ...   \n",
       " 5606                                                                     giá dầu nối dài đà tăng do căng thẳng trung đông gia tăng   \n",
       " 5607                                                                     giá dầu nối dài đà tăng do căng thẳng trung đông gia tăng   \n",
       " 5608                                                                     giá dầu nối dài đà tăng do căng thẳng trung đông gia tăng   \n",
       " 5609                                                                     giá dầu nối dài đà tăng do căng thẳng trung đông gia tăng   \n",
       " 5610                                                                     giá dầu nối dài đà tăng do căng thẳng trung đông gia tăng   \n",
       " \n",
       "                                                                                                                                                                                                                                                                                                                                                                                                                                                                                                                                                                                          content  \n",
       " 0                                                                                                                                                                                                                                                                                                                                                                                                                                                    ubnd tỉnh thanh hóa vừa có quyết định điều chỉnh chủ trương đầu tư dự án khu du lịch sinh thái tân dân tại phường tân dân, thị xã nghi sơn.  \n",
       " 1                                                   theo đó, trong lần điều chỉnh này, dự án được điều chỉnh có diện tích 84,8 ha với các hạng mục đầu tư xây dựng công trình dịch vụ thương mại, nhà hàng, trung tâm hội nghị, công trình tiện ích, công trình khách sạn, biệt thự nghỉ dưỡng, khu phụ trợ... công trình hạ tầng kỹ thuật, giao thông, bãi đỗ xe, các công trình phụ trợ khác và các khu vực cảnh quan, cây xanh, bãi cát ven biển quy mô xây dựng cụ thể của các hạng mục công trình sẽ theo quy hoạch chi tiết xây dựng, giấy phép xây dựng được cấp có thẩm quyền phê duyệt.  \n",
       " 2                                                                                                                                                                                                                                                                                                                                                                                                                                                tổng mức đầu tư của dự án là 11.096 tỷ đồng trong đó vốn tự có 2.219 tỷ đồng chiếm 20 vốn vay và huy động hợp pháp khác 8.877 tỷ đồng chiếm 80.  \n",
       " 3                                                                                                                                                                                                                                                                                                                                                                                                            trước đó, tại quyết định 1704, dự án có tổng vốn đầu tư gần 3.663 tỷ đồng, trong đó vốn tự có gần 111 tỷ đồng chiếm 20, vốn vay và huy động hợp pháp khác hơn 442 tỷ đồng chiếm 80.  \n",
       " 4                                                                                                                        theo ông lê hoàng châu, chủ tịch horea, tại cuộc họp, các đại biểu đã thảo luận, trao đổi thẳng thắn trên tinh thần thượng tôn pháp luật, tuân thủ pháp luật, chấp hành pháp luật và trách nhiệm để cùng chung tay tháo gỡ vướng mắc, khó khăn trong việc xây dựng bảng giá đất điều chỉnh theo quy định tại khoản 1 điều 257 luật đất đai 2024 trên cơ sở thực tiễn công tác xây dựng, điều chỉnh và áp dụng bảng giá đất trên địa bàn tp.hcm từ năm 2014 cho đến nay.  \n",
       " ...                                                                                                                                                                                                                                                                                                                                                                                                                                                                                                                                                                                          ...  \n",
       " 5606                                                                                                nông sản là nhóm dẫn dắt xu hướng giảm của toàn thị trường trong tuần qua khi tất cả các mặt hàng đều chìm trong sắc đỏ. đáng chú ý, với lực bán chiếm ưu thế trong cả 5 phiên giao dịch, giá ngô cbot khép lại tuần giao dịch cuối cùng của tháng 6 với mức giảm lên tới 7,49. đây là mức giảm hàng tuần lớn nhất mà giá ngô ghi nhận kể từ đầu tháng 7/2023. triển vọng nguồn cung lạc quan từ mỹ nhờ diện tích canh tác cao hơn dự kiến đã gây áp lực lớn lên giá ngô trong tuần vừa rồi.  \n",
       " 5607  tâm điểm chú ý của thị trường trong tuần vừa rồi là hai báo cáo tồn kho ngũ cốc quý grain stocks và diện tích gieo trồng acreage 2024 được bộ nông nghiệp mỹ usda công bố vào ngày 28/6. theo đó, tồn kho ngô của mỹ tính tới ngày 1/6/2024 đạt 4,99 tỷ giạ, cao hơn đáng kể so với dự đoán trung bình của thị trường. bên cạnh đó, nông dân mỹ ước tính đã trồng 91,48 triệu mẫu ngô cho vụ thu hoạch năm nay, tăng mạnh so với mức 90,04 triệu mẫu ước tính hồi tháng 3 của usda. con số này cũng đồng thời vượt ngoài khoảng dự đoán trước của giới phân tích là 89,0 - 91,3 triệu mẫu.  \n",
       " 5608                                                                                                                                                                                                                                                                                                                                       trong khi đó, tuy vẫn suy yếu 0,39 nhưng đà lao dốc kéo dài trong 4 tuần trước đó của giá lúa mì cbot đã có dấu hiệu chững lại. diễn biến giá lúa mì tương đối giằng co trong tuần vừa rồi, khi giá chịu tác động trái chiều bởi các yếu tố cung cầu.  \n",
       " 5609                                                                                                                                                                                                                                                                                                 trong báo cáo tiến độ mùa vụ crop progress, usda cho biết khoảng 52 diện tích lúa mì đông chiếm hơn 70 tổng sản lượng lúa mì hàng năm của mỹ đạt chất lượng tốt/tuyệt vời trong tuần kết thúc ngày 23/6, tăng 3 điểm phần trăm so với một tuần trước đó và vượt qua kỳ vọng của thị trường.  \n",
       " 5610                                                                                                                                                                                                                                                                                                        ngoài ra theo dữ liệu từ báo cáo grain stocks, tồn kho lúa mì cuối niên vụ 2023-2024 của mỹ đạt 702 triệu giạ, cao hơn mức 684 dự đoán trung bình và sát với mức cao nhất của khoảng dự đoán. điều này cũng cho thấy nguồn cung lúa mì từ mỹ sẽ dồi dào hơn trong niên vụ 2024-2025.  \n",
       " \n",
       " [5610 rows x 2 columns],\n",
       " 'vietstock':                                                                           title  \\\n",
       " 0     khối tài sản của các gia đình siêu giàu ước đạt 9.500 tỷ usd vào năm 2030   \n",
       " 1     khối tài sản của các gia đình siêu giàu ước đạt 9.500 tỷ usd vào năm 2030   \n",
       " 2     khối tài sản của các gia đình siêu giàu ước đạt 9.500 tỷ usd vào năm 2030   \n",
       " 3     khối tài sản của các gia đình siêu giàu ước đạt 9.500 tỷ usd vào năm 2030   \n",
       " 4     khối tài sản của các gia đình siêu giàu ước đạt 9.500 tỷ usd vào năm 2030   \n",
       " ...                                                                         ...   \n",
       " 1308                     bvh đạt 1,059 tỷ đồng lãi sau thuế 6 tháng, tăng hơn 9   \n",
       " 1309                     bvh đạt 1,059 tỷ đồng lãi sau thuế 6 tháng, tăng hơn 9   \n",
       " 1310                     bvh đạt 1,059 tỷ đồng lãi sau thuế 6 tháng, tăng hơn 9   \n",
       " 1311                     bvh đạt 1,059 tỷ đồng lãi sau thuế 6 tháng, tăng hơn 9   \n",
       " 1312                     bvh đạt 1,059 tỷ đồng lãi sau thuế 6 tháng, tăng hơn 9   \n",
       " \n",
       "                                                                                                                                                                                                                                                                                                                                                                                                                                                                                            content  \n",
       " 0                                                                                                                                                                                                                                             theo ước tính của công ty tư vấn deloitte, tài sản của các gia đình siêu giàu có thể sẽ tăng lên 9.500 tỷ usd vào năm 2030 khi các công ty quản lý tài sản gia đình family office phát triển và chuyển đổi thành các quỹ đầu cơ cạnh tranh với nhau.  \n",
       " 1                                                                                                                                                                                                                                                                                                                                                                           báo cáo của deloitte dự kiến tổng khối tài sản của các gia đình siêu giàu sẽ tăng 73 so với mức 5.500 tỷ usd hiện tại.  \n",
       " 2                                                                                                                                                                                                                                                                                                                                                                          số lượng công ty đầu tư dành riêng cho người giàu cũng dự kiến sẽ tăng hơn 30 trong cùng kỳ báo cáo lên 10.720 công ty.  \n",
       " 3                                                                                                                                                                                                                                                                                                                                                  deloitte cũng lưu ý tình trạng bất bình đẳng về tài sản ngày càng gia tăng và khiến dòng tiền tập trung nhiều hơn vào tay những người rất giàu.  \n",
       " 4                                                                                                                                                                                                                                                                                                                                               kết hợp thực trạng đó với việc mở một công ty quản lý tài sản gia đình trở nên dễ dàng hơn, các công ty này đang bắt kịp các quỹ đầu cơ về quy mô.  \n",
       " ...                                                                                                                                                                                                                                                                                                                                                                                                                                                                                            ...  \n",
       " 1308                                                                                                                                       tổng doanh thu công ty mẹ đạt 810 tỷ đồng, lợi nhuận sau thuế đạt 580 tỷ đồng, tăng trưởng lần lượt 4,8 và 5,5 so với cùng kỳ năm 2023, bám sát tiến độ kế hoạch năm 2024 đã được đhđcđ thông qua. tại 30/06/2024, tổng tài sản công ty mẹ đạt 18,396 tỷ đồng, vốn chủ sở hữu đạt 18,252 tỷ đồng, tăng lần lượt 2.9 và 3.3 so với thời điểm 31/12/2023.  \n",
       " 1309                                                                                                                                                 với tiềm lực tài chính mạnh, quy mô vốn và tài sản hàng đầu trong các doanh nghiệp bảo hiểm, bảo việt luôn thực hiện các cam kết với cổ đông, gia tăng giá trị cho nhà đầu tư. theo kế hoạch phân phối lợi nhuận, trong năm 2024, bảo việt sẽ dành hơn 745 tỷ đồng chi trả cổ tức bằng tiền, tương đương tỷ lệ 10.037 trên mệnh giá cổ phiếu.  \n",
       " 1310                                                                                                                                                                                                                                                                                                                                        lĩnh vực kinh doanh bảo hiểm nhân thọ đạt 21,558 tỷ đồng tổng doanh thu, đáng chú ý lợi nhuận sau thuế đạt 630 tỷ đồng tăng trưởng 19.9 so với cùng kỳ  \n",
       " 1311  nửa đầu năm 2024, thị trường bảo hiểm có những điểm sáng phục hồi tích cực, bảo việt nhân thọ đã chủ động nắm bắt, đẩy mạnh chất lượng dịch vụ tận tâm, chuyên nghiệp, đặt lợi ích của khách hàng là trọng tâm. bảo việt nhân thọ đã triển khai nhiều chương trình chăm sóc khách hàng như các chương trình đổi quà cho khách hàng thân thiết, tặng học bổng cho con em khách hàng đã từng được chi trả quyền lợi bảo hiểm, gia tăng bảo vệ - sống khỏe an vui, bảo vệ cả nhà, vi vu thả ga.  \n",
       " 1312                                                                                                                                           bảo việt nhân thọ cũng khẳng định uy tín của thương hiệu việt với danh hiệu 8 năm dẫn đầu top 10 công ty bảo hiểm nhân thọ uy tín top 10 doanh nghiệp đổi mới, sáng tạo và kinh doanh hiệu quả năm 2024 ngành bảo hiểm công ty bảo hiểm nhân thọ tốt nhất việt nam 2024 công ty bảo hiểm nhân thọ mang tới sự hài lòng và hạnh phúc cho khách hàng.  \n",
       " \n",
       " [1266 rows x 2 columns],\n",
       " 'tapchitaichinh':                                                                               title  \\\n",
       " 0      tăng hiệu quả phòng ngừa tham nhũng, tiêu cực từ cải cách thủ tục hành chính   \n",
       " 1      tăng hiệu quả phòng ngừa tham nhũng, tiêu cực từ cải cách thủ tục hành chính   \n",
       " 2      tăng hiệu quả phòng ngừa tham nhũng, tiêu cực từ cải cách thủ tục hành chính   \n",
       " 3      tăng hiệu quả phòng ngừa tham nhũng, tiêu cực từ cải cách thủ tục hành chính   \n",
       " 4      tăng hiệu quả phòng ngừa tham nhũng, tiêu cực từ cải cách thủ tục hành chính   \n",
       " ...                                                                             ...   \n",
       " 6132  kịp thời thanh toán khối lượng để đẩy nhanh tiến độ giải ngân vốn đầu tư công   \n",
       " 6133  kịp thời thanh toán khối lượng để đẩy nhanh tiến độ giải ngân vốn đầu tư công   \n",
       " 6134  kịp thời thanh toán khối lượng để đẩy nhanh tiến độ giải ngân vốn đầu tư công   \n",
       " 6135  kịp thời thanh toán khối lượng để đẩy nhanh tiến độ giải ngân vốn đầu tư công   \n",
       " 6136  kịp thời thanh toán khối lượng để đẩy nhanh tiến độ giải ngân vốn đầu tư công   \n",
       " \n",
       "                                                                                                                                                                                                                                                                                                                                                                                                                                                                                                                                                                                                                                        content  \n",
       " 0                                                                                                                                                                                                                                                                                                                                                                                                                                                                                                                                                                                                        kiểm soát chặt chẽ thủ tục hành chính  \n",
       " 1                                                                                                                                                                                                                                         để góp phần phòng ngừa tham nhũng, tiêu cực, thời gian qua, bộ tài chính đã kiểm soát chặt chẽ các thủ tục hành chính thuộc phạm vi thẩm quyền quản lý. qua đó, cải cách thủ tục hành chính một cách toàn diện gắn với việc phát triển chính phủ điện tử, chính phủ số, tạo thuận lợi cho người dân và doanh nghiệp góp phần cải thiện môi trường kinh doanh, nâng cao năng lực cạnh tranh quốc gia.  \n",
       " 2                          bộ tài chính thường xuyên rà soát, đánh giá thủ tục hành chính nhằm đề xuất bãi bỏ những thủ tục hành chính không còn phù hợp hoặc sửa đổi theo hướng cụ thể, rõ ràng, đơn giản, tăng tính khả thi cho cá nhân, tổ chức thực hiện. từ ngày 01/10/2023 đến ngày 31/7/2024, các đơn vị thuộc bộ tài chính đã thực hiện đánh giá tác động đối với 23 thủ tục hành chính tại 09 dự thảo văn bản quy phạm pháp luật thuộc lĩnh quản lý theo đúng quy định. trên cơ sở đó, đã lựa chọn các phương án, giải pháp tối ưu khi ban hành mới hoặc sửa đổi, bổ sung thủ tục hành chính thuộc lĩnh vực quản lý của bộ tài chính.  \n",
       " 3                                                                                                      trên cơ sở các văn bản quy phạm pháp luật quy định về thủ tục hành chính, từ ngày 01/10/2023 đến ngày 31/7/2024, bộ tài chính đã rà soát và ban hành 11 quyết định công bố bãi bỏ 45 thủ tục hành chính sửa đổi, bổ sung, thay thế 51 thủ tục hành chính công bố mới 15 thủ tục hành chính. trên cơ sở quyết định công bố, bộ tài chính đã thực hiện công khai, cập nhật đầy đủ và kịp thời lên cổng dịch vụ công quốc gia, cổng thông tin điện tử của bộ và trụ sở cơ quan tiếp nhận, thực hiện thủ tục hành chính theo đúng quy định.  \n",
       " 4                                                                                                                                                                                                                                             theo bộ tài chính, đến ngày 31/7/2024, tổng số thủ tục hành chính còn hiệu lực thuộc lĩnh vực quản lý của bộ tài chính là 763 thủ tục hành chính. trong đó, lĩnh vực thuế là 235 thủ tục hành chính hải quan là 225 thủ tục hành chính kho bạc là 11 thủ tục hành chính dự trữ là 7 thủ tục hành chính chứng khoán là 104 thủ tục hành chính lĩnh vực tài chính chung là 181 thủ tục hành chính.  \n",
       " ...                                                                                                                                                                                                                                                                                                                                                                                                                                                                                                                                                                                                                                        ...  \n",
       " 6132                                                                                                                                                                                                                                                                                                           kbnn tỉnh, thành phố trực thuộc trung ương, sở giao dịch kbnn phải phối hợp với chủ đầu tư, cơ quan tài chính đồng cấp trong thực hiện nhập, phê duyệt kế hoạch vốn vào hệ thống tabmis theo quy định, làm cơ sở để triển khai, thực hiện, kiểm soát thanh toán các dự án đầu tư đảm bảo kịp thời, đúng quy định của pháp luật.  \n",
       " 6133  cùng với đó, phối hợp chặt chẽ với chủ đầu tư, ban quản lý dự án trong việc đẩy mạnh giao dịch điện tử qua hệ thống dịch vụ công trực tuyến của kbnn, kịp thời thanh toán khối lượng ngay khi có khối lượng hoàn thành của các dự án, tránh tình trạng có khối lượng hoàn thành nhưng chưa thể thực hiện thanh toán. song song với đó, phải tuân thủ đúng quy định về hồ sơ, về kiểm soát thanh toán và quyết tâm, phấn đấu thời hạn giải quyết hồ sơ sớm hơn thời hạn giải quyết hồ sơ quy định tại nghị định số 99/2021/nđ-cp ngày 11/11/2021 của chính phủ quy định về quản lý, thanh toán, quyết toán dự án sử dụng vốn đầu tư công.  \n",
       " 6134                                                                                                                                                                                                                                                                                                            trường hợp trong quá trình thực hiện có khó khăn, vướng mắc hay đề xuất giải pháp nhằm hoàn thiện dịch vụ công trực tuyến để tạo thuận lợi cho đơn vị sử dụng ngân sách góp phần đẩy nhanh tiến độ giải ngân vốn đầu tư công, kbnn đề nghị kbnn các tỉnh, thành phố trực thuộc trung ương tổng hợp, báo cáo, đề xuất kịp thời.  \n",
       " 6135                                                                                                                                                                                                                                                                  trong quá trình kiểm soát thanh toán vốn đầu tư công, các đơn vị cũng cần kịp thời nắm bắt và xử lý các vướng mắc phát sinh trong quá trình thực hiện giải ngân vốn đầu tư của từng gói thầu, dự án theo đúng thẩm quyền đối với các vướng mắc vượt thẩm quyền, phải khẩn trương tổng hợp và đề xuất các giải pháp tháo gỡ với cấp có thẩm quyền để xem xét, giải quyết.  \n",
       " 6136                                                                                                                                   kbnn cũng yêu cầu thực hiện đối chiếu số liệu giải ngân vốn đầu tư công hằng ngày giữa các hệ thống tabmis, đtgd-kb và chương trình tổng hợp báo cáo để chuẩn xác, thống nhất số liệu hàng ngày đồng thời, quan tâm chỉ đạo thực hiện công tác báo cáo định kỳ về tình hình thực hiện, thanh toán vốn đầu tư công đảm bảo kịp thời, chính xác, đúng thời gian quy. thủ trưởng đơn vị chịu trách nhiệm về tính chính xác số liệu và chất lượng báo cáo hàng ngày, báo cáo định kỳ hàng tháng của đơn vị.  \n",
       " \n",
       " [6114 rows x 2 columns],\n",
       " 'vneconomy2':                                                                      title  \\\n",
       " 0     tưng bừng chào tết, trúng vàng trên ứng dụng ngân hàng ncb izimobile   \n",
       " 1     tưng bừng chào tết, trúng vàng trên ứng dụng ngân hàng ncb izimobile   \n",
       " 2     tưng bừng chào tết, trúng vàng trên ứng dụng ngân hàng ncb izimobile   \n",
       " 3     tưng bừng chào tết, trúng vàng trên ứng dụng ngân hàng ncb izimobile   \n",
       " 4     tưng bừng chào tết, trúng vàng trên ứng dụng ngân hàng ncb izimobile   \n",
       " ...                                                                    ...   \n",
       " 1314     hải quan kiểm soát chặt doanh nghiệp gian lận, ngăn thất thu thuế   \n",
       " 1315     hải quan kiểm soát chặt doanh nghiệp gian lận, ngăn thất thu thuế   \n",
       " 1316     hải quan kiểm soát chặt doanh nghiệp gian lận, ngăn thất thu thuế   \n",
       " 1317     hải quan kiểm soát chặt doanh nghiệp gian lận, ngăn thất thu thuế   \n",
       " 1318     hải quan kiểm soát chặt doanh nghiệp gian lận, ngăn thất thu thuế   \n",
       " \n",
       "                                                                                                                                                                                                                                                                                                                                                                                                content  \n",
       " 0                                                                                                                                                                     đáp ứng nhu cầu chuyển tiền quốc tế, giao dịch ngoại tệ tăng mạnh dịp đầu năm, ngân hàng ncb tung ưu đãi chuyển tiền quốc tế - song hành như ý, mang đến cho khách hàng dịch vụ thanh toán quốc tế tốc độ, an toàn và tiết kiệm.  \n",
       " 1     theo đó, từ nay đến 31/03/2023, ncb miễn phí chuyển tiền không bao gồm điện phí và phí our cho tất cả khách hàng cá nhân sử dụng dịch vụ thanh toán quốc tế của ngân hàng. đáng chú ý, nếu phát sinh doanh số chuyển tiền từ 10.000 usd trở lên trong thời gian từ 15/02 21/02/2024, khách hàng sẽ được lì xì ngay tới 26 usd tiền mặt, quy đổi theo tỷ giá tương đương tại thời điểm giao dịch.  \n",
       " 2                                                                                                          với ưu đãi hấp dẫn này, ncb mong muốn dành món quà nhỏ và trở thành cầu nối cùng khách hàng gửi yêu thương tới người thân nơi phương xa trong dịp đầu năm mới. đồng thời đáp ứng các nhu cầu đa dạng của khách hàng từ mua bán hàng hóa ngoại thương đến du học, định cư hay khám chữa bệnh  \n",
       " 3                                                                                                                                                                                                         cũng trong thời gian từ ngày 15/2 - 21/2/2024, ncb sẽ dành tặng khách hàng gửi tiết kiệm tại quầy những phong bao lì xì may mắn thay lời chúc cho một năm đầy ắp tài lộc, sung túc, an lành.  \n",
       " 4                                                                                   chỉ cần gửi tiền tiết kiệm tại các quầy giao dịch ncb với kỳ hạn từ 1 tháng trở lên, khách hàng sẽ được nhận ngay lì xì tương ứng theo giá trị tiền gửi. cụ thể, ncb lì xì 66.000 đồng với số tiền gửi từ 300 triệu - 3 tỷ đồng. với số tiền gửi từ 3 tỷ trở lên, khách hàng sẽ được tặng ngay lì xì 666.000 đồng.  \n",
       " ...                                                                                                                                                                                                                                                                                                                                                                                                ...  \n",
       " 1314                                                                                                                         cùng với đó, áp dụng các biện pháp kiểm tra, xác minh về tính chính xác, trung thực của thông tin xác định trị giá hải quan do doanh nghiệp xuất trình, để phòng ngừa và phát hiện các trường hợp có gian lận giá, từ đó, có biện pháp xử lý theo quy định của pháp luật.  \n",
       " 1315                                                                                       bốn, rà soát, phân loại các nhóm nợ có khả năng thu, nợ không có khả năng thu, tổ chức thực hiện thu hồi và xử lý nợ thuế đảm bảo hoàn thành chỉ tiêu thu hồi nợ được giao tại quyết định số 592/qđ-tchq ngày 28/3/2023 của tổng cục hải quan đảm bảo nợ thuế đến 31/12/2023 thấp hơn thời điểm 31/12/2022.  \n",
       " 1316                                                                                                   năm, tăng cường kiểm tra, rà soát, xử lý đúng đối tượng miễn thuế, không chịu thuế quy định tại luật thuế xuất khẩu, thuế nhập khẩu, đúng thủ tục miễn thuế tại nghị định 134/2016/nđ-cp và nghị định 18/2021/nđ-cp của chính phủ và các văn bản hướng dẫn của bộ tài chính, tổng cục hải quan.  \n",
       " 1317                                sáu, kiểm soát chặt chẽ công tác hoàn thuế, xử lý tiền thuế nộp thừa, tổ chức thực hiện hoàn thuế nhập khẩu, xử lý tiền thuế nộp thừa đúng quy định của pháp luật về thuế xuất nhập khẩu, pháp luật về quản lý thuế, thực hiện các giải pháp chống gian lận trong công tác hoàn thuế theo nội dung công văn số 356/tchq-txnk ngày 18/1/2023 của tổng cục hải quan.  \n",
       " 1318                                                                                                                                                                                                đồng thời, phối hợp với cơ quan thuế nội địa và các lực lượng khác trong đấu tranh ngăn chặn gian lận hoàn thuế giá trị gia tăng, đảm bảo việc hoàn thuế đúng đối tượng, đúng chính sách quy định.  \n",
       " \n",
       " [1319 rows x 2 columns],\n",
       " 'Vneconomy(1)':                                                                                                                     title  \\\n",
       " 0                                                                khơi thông điểm nghẽn về vốn cho doanh nghiệp vừa và nhỏ   \n",
       " 1                                                                khơi thông điểm nghẽn về vốn cho doanh nghiệp vừa và nhỏ   \n",
       " 2                                                                khơi thông điểm nghẽn về vốn cho doanh nghiệp vừa và nhỏ   \n",
       " 3                                                                             asean điểm đến của dòng vốn đầu tư toàn cầu   \n",
       " 4                                                                khơi thông điểm nghẽn về vốn cho doanh nghiệp vừa và nhỏ   \n",
       " ...                                                                                                                   ...   \n",
       " 5181  vietcombank và ubnd quận long biên tổ chức trao tài trợ cơ sở vật chất, trang thiết bị trường học và quỹ khuyến học   \n",
       " 5182  vietcombank và ubnd quận long biên tổ chức trao tài trợ cơ sở vật chất, trang thiết bị trường học và quỹ khuyến học   \n",
       " 5183  vietcombank và ubnd quận long biên tổ chức trao tài trợ cơ sở vật chất, trang thiết bị trường học và quỹ khuyến học   \n",
       " 5184                                               trạng thái ngược chiều chính sách tiền tệ của các ngân hàng trung ương   \n",
       " 5185  vietcombank và ubnd quận long biên tổ chức trao tài trợ cơ sở vật chất, trang thiết bị trường học và quỹ khuyến học   \n",
       " \n",
       "                                                                                                                                                                                                                                                                                                                                                                                                                                                                                                                                                                                                                                                                                                                                                        content  \n",
       " 0                                                                                                                                                                                                                                                                                                                                                                                                                               từ nay đến hết năm 2024, nhiều chuyên gia dự báo các tín hiệu kinh doanh khả quan, nhưng doanh nghiệp vẫn sẽ đối mặt nhiều khó khăn, thách thức. các căng thẳng địa chính trị đang gây gián đoạn chuỗi cung ứng và các hoạt động thương mại, từ đó đặt ra rào cản đối với tăng trưởng của việt nam - nền kinh tế có độ mở lớn.  \n",
       " 1                                                                                                                                                                                                                                                                                                                                                  chiếm tỷ trọng tới 97 tổng số doanh nghiệp cả nước ta, đóng góp trên 40 gdp, 33 tổng thu ngân sách nhà nước, giải quyết việc làm cho 36 tổng lao động, thu hút 32 tổng nguồn vốn và tạo ra 26 tổng doanh thu trong khối doanh nghiệp, nhóm doanh nghiệp vừa và nhỏ đóng vai trò quan trọng vào sự phát triển chung của nền kinh tế, nhưng cũng dễ tổn thương trước những tác động, biến đổi của thị trường.  \n",
       " 2                                                                                                                                                                                                                      mới thành lập, mới gia nhập ngành, lĩnh vực kinh tế, quy mô lao động và doanh thu hạn chế, thiếu tài sản bảo đảm, có tài sản đảm bảo nhưng giá trị tài sản thấp. là những nguyên nhân chính khiến không ít doanh nghiệp sme khó tiếp cận các nguồn vốn vay ưu đãi từ phía ngân hàng. theo kết quả khảo sát của viện nghiên cứu quản lý kinh tế trung ương, các doanh nghiệp vừa và nhỏ tiếp cận nguồn tài chính chính thống qua hệ thống ngân hàng chỉ chiếm khoảng 30, còn đến 70 phải đi huy động từ bạn bè, vay mượn phi chính thống  \n",
       " 3                                        dòng vốn fdi toàn cầu trong năm 2023 đạt 1,33 nghìn tỷ usd, giảm 2 so với năm trước đó, một phần do sự thay đổi đột ngột ở một số ít nền kinh tế trung gian châu âu, một phần do thuế tối thiểu toàn cầu gmt đối với các tập đoàn đa quốc gia lớn mne cũng như sự sụt giảm đáng kể giá trị của các giao dịch mua lại và sáp nhập ma xuyên biên giới tại các quốc gia phát triển. loại trừ ảnh hưởng từ những nền kinh tế này, dòng vốn fdi toàn cầu trong năm 2023 có sự sụt giảm mạnh, hơn 10 so với cùng kỳ, trong khi dòng vốn vào các nước đang phát triển giảm 7, dẫn đầu là châu á, khu vực nhận fdi lớn nhất, giảm 8 theo báo cáo của tổ chức kinh tế thương mại lớn nhất thuộc hệ thống liên hợp quốc unctad.  \n",
       " 4                                                                                                                                                                                                                                                                                                                                                                                                         việc tìm ra các giải pháp để khơi thông vốn tới nhóm doanh nghiệp này cần được tiếp cận từ nhiều phía. các chính sách vốn cho doanh nghiệp cần đa dạng, linh hoạt hơn bản thân doanh nghiệp cũng cần nhận thức được điểm mạnh, điểm yếu của mình để hoàn thiện, cái tiến quy trình, đáp ứng những yêu cầu mới trong việc nâng cao năng lực quản trị.  \n",
       " ...                                                                                                                                                                                                                                                                                                                                                                                                                                                                                                                                                                                                                                                                                                                                                        ...  \n",
       " 5181                                                                                                                                                                                                                                                                                                                                                    hiện vietcombank đã và đang là ngân hàng số 1 việt nam, thể hiện trên nhiều lĩnh vực số 1 về hiệu quả hoạt động số 1 về đóng góp cho ngân sách nhà nước vietcombank luôn lọt trong top đầu các đơn vị có môi trường làm việc tốt nhất việt nam đặc biệt, năm 2023, nhân dịp kỷ niệm 60 năm ngày thành lập, vietcombank đã vinh dự được đảng và nhà nước trao tặng danh hiệu cao quý anh hùng lao động.  \n",
       " 5182  chúng tôi mong muốn quỹ khuyến học với mục đích khen thưởng, khích lệ, động viên, sẽ là động lực để các em học sinh phấn đấu, rèn luyện trong học tập, giành được những giải cao tại các cuộc thi hỗ trợ các em học sinh nghèo vượt khó vươn lên... tôi đề nghị việc sử dụng quỹ phải đúng mục đích, đúng quy định. hồ sơ chứng từ phải đảm bảo hợp lý, hợp lệ và công khai minh bạch... ban giám hiệu cần phải xây dựng kế hoạch sử dụng nguồn tài trợ, trong quá trình triển khai phải đảm bảo minh bạch, khách quan, công tâm, sử dụng quỹ hiệu quả hy vọng với sự ủng hộ của vietcombank sẽ có thêm động lực để trường tiểu học gia thụy đạt được những thành tích cao hơn nữa trong năm học 2024 và các năm tiếp theo, ông lại hữu phước nhấn mạnh.  \n",
       " 5183                                                                                                                                                                                                                                                                                                                            thay mặt ban giám hiệu, cbgvnv và các em học sinh, cô giáo bùi thị thu hằng - hiệu trưởng nhà trường bày tỏ lời cảm ơn sâu sắc đến vietcombank đã giành cho nhà trường một niềm vui đặc biệt trong những ngày đẩu tiên của năm mới. đồng thời cô cũng gửi lời cảm ơn sâu sắc tới ubnd quận long biên, ubnd phường gia thụy và các ban ngành đoàn thể đã quan tâm tạo điều kiện và giúp đỡ nhà trường trong suốt thời gian qua.  \n",
       " 5184                                                                                                                                                                                                                                                                                                                                                                                                                                                                                                                                                                                                                                                                                                                                                            \n",
       " 5185                                                       bên cạnh đó quỹ khuyến học của nhà trường cũng được bổ sung nguồn kinh phí để động viên khen thưởng kịp thời các em học sinh vươn lên trong học tập, các em có thành tích học tập xuất sắc. từ đó làm động lực để mỗi thầy cô giáo không ngừng phấn đấu, các em học sinh không ngừng học tập và rèn luyện trở thành những học sinh có kiến thức, có kỉ luật, có lòng yêu thương, trách nhiệm, có ý chí vươn lên. chúng tôi cam kết sử dụng đúng mục đích, có hiệu quả nguồn kinh phí được tài trợ. nhà trường rất mong tiếp tục nhận được sự đồng hành của vietcombank trong thời gian tới. chúc vietcombank luôn phát triển bền vững, giữ vững là ngân hàng tốt nhất việt nam, cô hiệu trưởng nói.  \n",
       " \n",
       " [5180 rows x 2 columns],\n",
       " 'cafef_stock':                                                                               title  \\\n",
       " 0     một mã chứng khoán bất ngờ bị tự doanh ctck quay đầu bán mạnh trong phiên 5/9   \n",
       " 1     một mã chứng khoán bất ngờ bị tự doanh ctck quay đầu bán mạnh trong phiên 5/9   \n",
       " 2     một mã chứng khoán bất ngờ bị tự doanh ctck quay đầu bán mạnh trong phiên 5/9   \n",
       " 3     một mã chứng khoán bất ngờ bị tự doanh ctck quay đầu bán mạnh trong phiên 5/9   \n",
       " 4     một mã chứng khoán bất ngờ bị tự doanh ctck quay đầu bán mạnh trong phiên 5/9   \n",
       " ...                                                                             ...   \n",
       " 3073        cùng chiều khối ngoại, tự doanh ctck quay đầu bán ròng trong phiên 16/7   \n",
       " 3074        cùng chiều khối ngoại, tự doanh ctck quay đầu bán ròng trong phiên 16/7   \n",
       " 3075        cùng chiều khối ngoại, tự doanh ctck quay đầu bán ròng trong phiên 16/7   \n",
       " 3076        cùng chiều khối ngoại, tự doanh ctck quay đầu bán ròng trong phiên 16/7   \n",
       " 3077        cùng chiều khối ngoại, tự doanh ctck quay đầu bán ròng trong phiên 16/7   \n",
       " \n",
       "                                                                                                                                                                                                                                                                                             content  \n",
       " 0                                                                                                                                                                                                                                 tự doanh ctck ghi nhận bán ròng 130 tỷ đồng trên toàn thị trường.  \n",
       " 1                                                                                                                                                  trên sàn hose, tự doanh ctck bán ròng 127 tỷ đồng, trong đó bán ròng 108 tỷ đồng trên kênh khớp lệnh và bán ròng 19 tỷ đồng tại kênh thoả thuận.  \n",
       " 2                                                                              cụ thể, giao dịch của các ctck bán ròng mạnh nhất tại fuevfvnd với 65 tỷ, ngoài ra tcb và stb cũng bị bán ròng với lần lượt 17 tỷ và 14 tỷ. bên cạnh đó, các mã ssi, vcb, hdb, bcg cũng bị bán ròng trong phiên 5/9.  \n",
       " 3                                                                  ngược lại, nhóm ctck mua ròng mạnh nhất tại vib với 28 tỷ, hai cổ phiếu khác là mwg và vhm cũng được mua ròng với lần lượt 17 tỷ và 23 tỷ. các cổ phiếu được mua ròng trong phiên hôm nay còn có loạt mã fuessvfl, fpt, msn, vre  \n",
       " 4                                                                                                                                                                        trên hnx, tự doanh ctck bán ròng hơn 700 triệu , trong đó tng bị bán ròng gần 3 tỷ đồng, ngược lại idc được mua ròng 2 tỷ.  \n",
       " ...                                                                                                                                                                                                                                                                                             ...  \n",
       " 3073                                                                                                                                                                                                                               tự doanh ctck quay đầu bán ròng 54 tỷ đồng trên toàn thị trường.  \n",
       " 3074                                                                                                                                                     trên sàn hose, tự doanh ctck bán ròng 54 tỷ đồng, trong đó bán ròng 55 tỷ đồng trên kênh khớp lệnh nhưng mua ròng nhẹ tại kênh thoả thuận.  \n",
       " 3075  cụ thể, nhóm ctck bán ròng mạnh nhất tại cổ phiếu mbb với giá trị 30 tỷ đồng. hai mã msn và acb cũng bị bán ròng với giá trị lần lượt là 27 tỷ và 12 tỷ. theo sau là dbc cũng bị bán ròng khoảng 8 tỷ đồng. các cổ phiếu bị bán ròng trong phiên hôm nay còn có loạt mã gmd, hpg, vib, gas...  \n",
       " 3076                                                      ngược lại, giao dịch của các ctck mua ròng mạnh nhất tại mwg với giá trị 23 tỷ, hai mã shb và e1vfvn30 cũng được mua ròng lần lượt 19 tỷ và 19tỷ. bên cạnh đó, các mã như vhm, kbc, lpb, vcb, ssb... cũng được mua ròng trong phiên 16/7.  \n",
       " 3077                                                                                                                                               trên hnx, tự doanh ctck bán ròng nhẹ, trong đó bán ròng hơn 1 tỷ tại dvm, l18 và pvs cũng bị bán ròng nhẹ ngược loại idc được mua ròng hơn 1 tỷ.  \n",
       " \n",
       " [3063 rows x 2 columns],\n",
       " 'thanhnien':                                                            title  \\\n",
       " 0      ông vũ thế phiệt làm chủ tịch acv thay ông lại xuân thanh   \n",
       " 1      ông vũ thế phiệt làm chủ tịch acv thay ông lại xuân thanh   \n",
       " 2      ông vũ thế phiệt làm chủ tịch acv thay ông lại xuân thanh   \n",
       " 3      ông vũ thế phiệt làm chủ tịch acv thay ông lại xuân thanh   \n",
       " 4      ông vũ thế phiệt làm chủ tịch acv thay ông lại xuân thanh   \n",
       " ...                                                          ...   \n",
       " 11259     sawaco thực hiện mục tiêu khách hàng phải là trung tâm   \n",
       " 11260     sawaco thực hiện mục tiêu khách hàng phải là trung tâm   \n",
       " 11261     sawaco thực hiện mục tiêu khách hàng phải là trung tâm   \n",
       " 11262     sawaco thực hiện mục tiêu khách hàng phải là trung tâm   \n",
       " 11263     sawaco thực hiện mục tiêu khách hàng phải là trung tâm   \n",
       " \n",
       "                                                                                                                                                                                                                                                                                                                                                                                                                                                                                                                                                                                                                                                                                                                          content  \n",
       " 0                                                                                                                                                                                                                                                                                                                                                                                                                                                                                                                                                                                                 ông vũ thế phiệt sinh năm 1973, là thạc sĩ quản trị kinh doanh. ông phiệt công tác trong ngành hàng không từ năm 1995 đến nay.  \n",
       " 1                                                                                                                                                                                                                                                                                                                                                                                                                                                                                                             phát biểu nhận nhiệm vụ mới, ông phiệt cho biết sẽ tiếp tục các chiến lược sản xuất kinh doanh của acv đã được ủy ban quản lý vốn nhà nước tại doanh nghiệp phê duyệt và hoàn thành các dự án trọng điểm quốc gia.  \n",
       " 2                                                                                                                                                                                                                                                                                                                                                                                                                                                                                                                 trong đó có các dự án như nhà ga hành khách t3 - cảng hàng không quốc tế tân sơn nhất, đặc biệt là dự án xây dựng sân bay long thành đúng quy định pháp luật, đúng tiến độ, mỹ thuật và chất lượng công trình.  \n",
       " 3                                                                                                                                                                                                                                                                                                                                                                                                                                                                                                                             tại buổi lễ, ông nguyễn hoàng anh, chủ tịch ủy ban quản lý vốn nhà nước tại doanh nghiệp đã trao quyết định nghỉ hưu theo chế độ kể từ ngày 1.9 cho ông lại xuân thanh - nguyên chủ tịch hđqt acv.  \n",
       " 4                                                                                                                                                                                                                                                                                                                                                                                                                                                                                                                                                 ông lại xuân thanh là người gắn bó và có quá trình làm công tác quản lý lâu dài trong ngành hàng không, từng giữ vị trí phó cục trưởng rồi cục trưởng cục hàng không việt nam.  \n",
       " ...                                                                                                                                                                                                                                                                                                                                                                                                                                                                                                                                                                                                                                                                                                                          ...  \n",
       " 11259                                                                                                                                                                                                                                                                                                                                                                                                                                                                                                                                                                                        bên cạnh những kết quả đạt được, các chuyên gia cũng đóng góp một số ý kiến để ngành cấp nước tp.hcm cải thiện trong thời gian tới.  \n",
       " 11260  tại tọa đàm, bà phan thị tuyết oanh, chuyên viên phòng nghiên cứu tổng hợp viện nghiên cứu phát triển tp.hcm cho biết, theo kế hoạch của ubnd tp.hcm, viện đã thực hiện điều tra xã hội học đánh giá sự hài lòng của người dân đối với chất lượng hoạt động và cung cấp dịch vụ cấp nước trên địa bàn tp.hcm năm 2023. việc khảo sát được tiến hành tại 18 quận, huyện của tp.hcm theo 5 tiêu chí cơ bản tiếp cận dịch vụ công cụ/phương tiện cung cấp dịch vụ thái độ phục vụ chất lượng/kết quả cung cấp dịch vụ tiếp nhận kiến nghị và phản hồi. kết quả cho thấy người dân bày tỏ mong muốn cải thiện các yếu tố chất lượng hệ thống đường ống, chất lượng nước sinh hoạt, tăng cường kiểm tra, bảo trì hệ thống ống.  \n",
       " 11261                                                                                                                                                                            đại diện viện nghiên cứu phát triển tp.hcm kiến nghị, ngành cấp nước tp.hcm cần tiếp tục đảm bảo chất lượng nước và khắc phục nhanh khi có sự cố về hạ tầng đường ống xảy ra. việc tăng, giảm giá nước cần được đánh giá cẩn trọng và chú trọng công tác truyền thông trước khi điều chỉnh giá nước. bên cạnh đó, sawaco cần đẩy nhanh quá trình chuyển đổi số, lắp đặt đồng hồ nước điện tử, tăng cường truyền thông qua các ứng dụng trực tuyến của tổng công ty nhưng phải lưu ý nhóm khách hàng lớn tuổi, ít sử dụng điện thoại thông minh.  \n",
       " 11262                                                                                                                                                                                                                                                                                                                                                                                                                                                                                              ts huỳnh văn thông, giảng viên khoa báo chí và truyền thông trường đại học khoa học xã hội và nhân văn - đại học quốc gia tp.hcm nhận định, ngành điện và ngành nước là những ngành đang dẫn đầu về cải cách hành chính công.  \n",
       " 11263                                                                                                                                                                                        ts thông nhấn mạnh ứng dụng chuyển đổi số là yếu tố chiến lược và sẽ thay thế các phương thức cũ. do đó, ngành nước phải tích hợp vào hệ sinh thái dịch vụ kỹ thuật số của tp.hcm. có thể khuyến khích người dân bằng việc tích điểm khi thanh toán để thay đổi dần thói quen. đồng thời bổ sung thêm một số tính năng trên ứng dụng để tiện lợi hơn cho khách hàng. ngành nước phải đáp ứng kỳ vọng và chốt đòi hỏi mới của người dân. hóa đơn nước là sự trả tiền cho sức khỏe chứ không còn là nhu cầu cơ bản, ts thông chia sẻ.  \n",
       " \n",
       " [10988 rows x 2 columns],\n",
       " 'cafef_bank':                                                                    title  \\\n",
       " 0     mừng 28 năm thành lập, vib ưu đãi không giới hạn tri ân khách hàng   \n",
       " 1     mừng 28 năm thành lập, vib ưu đãi không giới hạn tri ân khách hàng   \n",
       " 2     mừng 28 năm thành lập, vib ưu đãi không giới hạn tri ân khách hàng   \n",
       " 3     mừng 28 năm thành lập, vib ưu đãi không giới hạn tri ân khách hàng   \n",
       " 4     mừng 28 năm thành lập, vib ưu đãi không giới hạn tri ân khách hàng   \n",
       " ...                                                                  ...   \n",
       " 5687                      giá vàng nhẫn tròn trơn tăng mạnh, sjc đứng im   \n",
       " 5688                      giá vàng nhẫn tròn trơn tăng mạnh, sjc đứng im   \n",
       " 5689                      giá vàng nhẫn tròn trơn tăng mạnh, sjc đứng im   \n",
       " 5690                      giá vàng nhẫn tròn trơn tăng mạnh, sjc đứng im   \n",
       " 5691                      giá vàng nhẫn tròn trơn tăng mạnh, sjc đứng im   \n",
       " \n",
       "                                                                                                                                                                                                                                                                                                                                                                  content  \n",
       " 0                                                                                                                                                                                                                                                                                                                            chương trình diễn ra từ nay đến 09/10/2024.  \n",
       " 1                                                                                                                                                                                                                                                                                  tặng iphone 15 pro max và vé ga xem anh trai say hi concert 2024 cho người dùng myvib  \n",
       " 2                                                                                                                   trong thời gian từ nay đến 09/10, tất cả giao dịch hợp lệ trên ứng dụng ngân hàng số myvib đều được tích điểm để đổi các quà tặng hấp dẫn. 10 khách hàng có điểm tích lũy cao nhất sẽ được tặng 2 iphone 15 pro max và 8 tai nghe apple airpods pro.  \n",
       " 3     đặc biệt, 40 cặp vé ga xem anh trai say hi concert 2024, 08 áo khoác và 280 nón độc quyền anh trai say hi sẽ được tặng cho 328 khách hàng có điểm tích lũy cao nhất mỗi tuần trong 2 tuần từ nay đến 16/09. đây là cách riêng vib dành tặng cho người dùng myvib để có vé miễn phí tham gia sự kiện anh trai say hi concert 2024 đang được mong chờ nhất hiện nay.  \n",
       " 4                                                                                                                                                                                                                                                bên cạnh đó, 2.800 khách hàng đạt mốc 28 điểm sớm nhất mỗi tuần sẽ nhận e-voucher giảm giá pnj, canifa và hoayeuthuong.  \n",
       " ...                                                                                                                                                                                                                                                                                                                                                                  ...  \n",
       " 5687                                                                  đà tăng của giá vàng nhẫn tròn trơn xuất phát từ việc giá vàng thế giới liên tiếp tăng trong các phiên giao dịch vừa qua. nhiều năm nay, giá vàng nhẫn tròn trơn trong nước tương đương giá vàng thế giới. vì vậy, giá vàng thế giới tăng mạnh khiến giá vàng nhẫn tròn trơn trong nước tăng theo.  \n",
       " 5688                                                                                                                                                                                                                                      giá vàng miếng sjc vẫn được các doanh nghiệp và ngân hàng quốc doanh niêm yết 74,98 - 76,98 triệu đồng/lượng mua vào - bán ra.  \n",
       " 5689                                                                                                                                                         giá vàng sjc giữ mức thấp nhưng người dân khó mua vàng. doanh nghiệp vàng đều hết vàng sjc bán ra, các ngân hàng quốc doanh và công ty sjc chỉ nhận đăng ký mua vàng trực tuyến và qua tin nhắn điện thoại.  \n",
       " 5690                                                                                                                                               cùng thời điểm, giá vàng thế giới ở mức 2.391 usd/ounce, tăng tới 35 usd/ounce so với cuối phiên giao dịch trước đó. quy đổi theo tỷ giá hiện hành, giá vàng thế giới khoảng 75,1 triệu đồng/lượng, chưa kể thuế phí.  \n",
       " 5691                                                                                                                                                    trên thị trường tiền tệ, ngày 7/6 rơi vào ngày nghỉ cuối tuần, ngân hàng nhà nước giữ nguyên niêm yết tỷ giá trung tâm 24.246 đồng/usd. tại ngân hàng thương mại, tỷ giá usd quanh mức 25.208 - 25.458 đồng/usd.  \n",
       " \n",
       " [5501 rows x 2 columns],\n",
       " 'thitruongtaichinh':                                                                                                title  \\\n",
       " 0     thanh khoản dư thừa, 3 ngân hàng mạnh tay phát hành hơn 5.000 tỷ đồng trái phiếu trong 1 tháng   \n",
       " 1     thanh khoản dư thừa, 3 ngân hàng mạnh tay phát hành hơn 5.000 tỷ đồng trái phiếu trong 1 tháng   \n",
       " 2     thanh khoản dư thừa, 3 ngân hàng mạnh tay phát hành hơn 5.000 tỷ đồng trái phiếu trong 1 tháng   \n",
       " 3     thanh khoản dư thừa, 3 ngân hàng mạnh tay phát hành hơn 5.000 tỷ đồng trái phiếu trong 1 tháng   \n",
       " 4     thanh khoản dư thừa, 3 ngân hàng mạnh tay phát hành hơn 5.000 tỷ đồng trái phiếu trong 1 tháng   \n",
       " ...                                                                                              ...   \n",
       " 2551                                  yêu cầu xuất hóa đơn từng lần bán lẻ xăng dầu liệu có ách tắc?   \n",
       " 2552                                  yêu cầu xuất hóa đơn từng lần bán lẻ xăng dầu liệu có ách tắc?   \n",
       " 2553                                  yêu cầu xuất hóa đơn từng lần bán lẻ xăng dầu liệu có ách tắc?   \n",
       " 2554                                  yêu cầu xuất hóa đơn từng lần bán lẻ xăng dầu liệu có ách tắc?   \n",
       " 2555                                  yêu cầu xuất hóa đơn từng lần bán lẻ xăng dầu liệu có ách tắc?   \n",
       " \n",
       "                                                                                                                                                                                                                                                                                                                                                                                                                                                                                                                                                                                                                                                                                                                                                                                  content  \n",
       " 0                                                                                                                                                                                                                                                                                                                                                                                                                                                                                                            bản tin mới nhất cho các khách hàng techcombank priority của techcombank về tpdn cho biết, mặt bằng lãi suất tiền gửi bắt đầu tăng phù hợp với các kỳ vọng trước đây. theo đó, lãi suất tiền gửi có thể đã chạm đáy vào tháng 3/2024 ở mức 4,8/năm đối với kỳ hạn 12 tháng.  \n",
       " 1                                                                                                                                                                                                                                                                                                                                                                                                                                                                                                 tuy nhiên, lãi suất cho vay được dự báo sẽ tiếp tục duy trì ở mức thấp trong thời gian tới do phụ thuộc phần lớn vào nhu cầu tín dụng. nhà đầu tư nên ưu tiên các trái phiếu có lãi suất thả nổi ở thời điểm hiện tại để tối ưu hóa lợi nhuận- các chuyên gia techcombank khuyến nghị.  \n",
       " 2                                                                                                                                                                                                                                                                                                                                                                                                                                                                    trên thị trường thứ cấp, giá trị giao dịch tpdn niêm yết trên hnx và trên hệ thống giao dịch iconnect duy trì ổn định so với tuần trước. thanh khoản trên hnx đạt trung bình gần 339 tỷ đồng/phiên. trong khi đó, thanh khoản trên hệ thống iconnect đạt trung bình 47 tỷ/phiên với sự tham gia của 522 nhà đầu tư.  \n",
       " 3                                                                                                                                                                                                                                                                                                                                                                                                                                            tính từ đầu tháng 4/2024 đến thời điểm báo cáo, thị trường phát hành sơ cấp tpdn có 13 đợt phát hành mới với tổng giá trị 13.900 tỷ đồng. trong số đó, 5.200 tỷ đồng thuộc về trái phiếu các ngân hàng gồm mbbank, techcombank và msb. 4.000 tỷ đồng còn lại thuộc về tpdn của vingroup và vinhomes với kỳ hạn 2 năm, lãi suất 12 12,5/năm.  \n",
       " 4     việc các ngân hàng đẩy mạnh phát hành trái phiếu trong thời gian vừa qua được lý giải do bối cảnh thanh khoản thị trường có dấu hiệu giảm dư thừa, thể hiện ở lãi suất liên ngân hàng qua đêm đã nhảy vọt lên mức trên 4 trong tháng 4. đây là kết quả của việc ngân hàng nhà nước nhnn liên tục hút thanh khoản qua kênh nghiệp vụ thị trường mở omo thời gian vừa qua. đồng thời huy động tiền gửi từ dân cư của các tổ chức tín dụng cũng giảm tốc trong quý 1/2024, ghi nhận mức giảm 0,76 so với cuối năm 2023 số liệu từ tổng cục thống kê. các ngân hàng cũng tăng cường huy động qua kênh trái phiếu để bổ sung nguồn vốn trung dài hạn, khi quy định tỷ lệ nguồn vốn ngắn hạn cho vay trung dài hạn bị siết chặt đồng thời để cân đối nguồn vốn chuẩn bị cho tăng trưởng.  \n",
       " ...                                                                                                                                                                                                                                                                                                                                                                                                                                                                                                                                                                                                                                                                                                                                                                                  ...  \n",
       " 2551                                                                                                                                                                                                                                                                                                                                                               cũng theo bộ tài chính, quy định các công ty kinh doanh xăng dầu phải thực hiện phát hành hđđt theo từng lần bán hàng đã được quy định cụ thể tại luật quản lý thuế số 38/2019/qh14, nghị định số 123, nghị định 80/2023/nđ-cp của chính phủ và ngày 01/12/2023, thủ tướng chính phủ đã ban hành công điện số 1284/cđ-ttg về tăng cường công tác quản lý, sử dụng hđđt đối với hoạt động kinh doanh, bán lẻ xăng dầu.  \n",
       " 2552                                                                                                                                                                                                                                                                                                                                                                                                tại điểm c khoản 14 điều 10 nghị định số 123 quy định đối với hđđt bán xăng đầu cho khách hàng là cá nhân không kinh doanh thì không nhất thiết phải có các chỉ tiêu tên hóa đơn, ký hiệu mẫu số hóa đơn, ký hiệu hóa đơn, số hóa đơn tên, địa chỉ, mã số thuế của người mua, chữ ký điện tử của người mua chữ ký số, chữ ký điện tử của người bán, thuế suất thuế giá trị gia tăng.  \n",
       " 2553                                                                                                                                                                                                                                                                                                                                                                                                               tại điểm a.1 khoản 3 điều 22 nghị định số 123 quy định về việc chuyển dữ liệu hđđt đã lập đến cơ quan thuế riêng đối với trường hợp bán xăng dầu cho khách hàng thì người bán tổng hợp dữ liệu tất cả các hóa đơn bán xăng dầu trong ngày theo từng mặt hàng để thể hiện trên bảng tổng hợp dữ liệu hđđt và chuyển bảng tổng hợp dữ liệu hóa đơn này ngay trong ngày.  \n",
       " 2554                                                                                                                                                                                                                                                                                                                                                                                                                  căn cứ quy định nêu trên, đối với các khách, cửa hàng xăng dầu thực hiện lập hđđt với đẩy đủ các chỉ tiêu theo quy định. đối với khách hàng không lấy hóa đơn, cửa hàng xăng dầu cũng phải lập hóa đơn, tuy nhiên, việc xuất hđđt đối với trường hợp này là cho khách hàng cá nhân không kinh doanh nên trên hóa đơn không nhất thiết phải có đầy đủ các chỉ tiêu.  \n",
       " 2555                                                                                                                                                                                                                                                                                                          việc lập hđđt là theo phần mềm, được thực hiện tự động, số lượng hđđt đã xuất sẽ được lưu trữ đầy đủ bằng hình thức điện tử không phải in ra tại các cửa hàng xăng dầu và đảm bảo có thể tra cứu khi cơ quan có thẩm quyền yêu cầu. do đó, việc xuất hđđt theo từng lần bán hàng không làm mất thời gian của người mua không có nhu cầu lấy hóa đơn nhưng vẫn đảm bảo doanh nghiệp tuân thủ đúng quy định và hđđt được lưu trữ, tra cứu khi cơ quan có thẩm quyền yêu cầu.  \n",
       " \n",
       " [2483 rows x 2 columns],\n",
       " 'tuoitre':                                                                title  \\\n",
       " 0      lộ diện những đại gia bất động sản tầm cỡ nắm vốn ngân hàng 1   \n",
       " 1      lộ diện những đại gia bất động sản tầm cỡ nắm vốn ngân hàng 1   \n",
       " 2      lộ diện những đại gia bất động sản tầm cỡ nắm vốn ngân hàng 1   \n",
       " 3      lộ diện những đại gia bất động sản tầm cỡ nắm vốn ngân hàng 1   \n",
       " 4      lộ diện những đại gia bất động sản tầm cỡ nắm vốn ngân hàng 1   \n",
       " ...                                                              ...   \n",
       " 9688  chứng khoán tuần mới thông tin nào khiến nhà đầu tư thấp thỏm?   \n",
       " 9689  chứng khoán tuần mới thông tin nào khiến nhà đầu tư thấp thỏm?   \n",
       " 9690  chứng khoán tuần mới thông tin nào khiến nhà đầu tư thấp thỏm?   \n",
       " 9691  chứng khoán tuần mới thông tin nào khiến nhà đầu tư thấp thỏm?   \n",
       " 9692  chứng khoán tuần mới thông tin nào khiến nhà đầu tư thấp thỏm?   \n",
       " \n",
       "                                                                                                                                                                                                                                                                                                                                                              content  \n",
       " 0                                                                                                                                                                                                               các ngân hàng tiếp tục công bố danh sách cổ đông sở hữu 1 vốn điều lệ và người có liên quan theo quy định mới của luật các tổ chức tín dụng sửa đổi.  \n",
       " 1                                                                                                                                                                                                                                  ngân hàng an bình abbank vừa công bố danh sách gồm 19 cổ đông 16 cá nhân và 3 tổ chức nắm giữ từ 1 vốn điều lệ ngân hàng trở lên.  \n",
       " 2                                                                                                                                                                                                                                 ông vũ văn tiền - phó chủ tịch abbank, đồng thời là lãnh đạo có tên tuổi gắn liền với nhà băng này - không có tên trong danh sách.  \n",
       " 3                                                                                     song hai doanh nghiệp liên quan ông tiền nắm trực tiếp 17,21 cổ phần ngân hàng này. trong đó, tập đoàn geleximco - doanh nghiệp bất động sản do ông tiền làm chủ tịch hđqt - nắm 12,78 vốn. chưa kể, tỉ lệ sở hữu cổ phần người liên quan tập đoàn này tại ngân hàng nắm 4,65.  \n",
       " 4                                                                                                                                                                                 công ty cổ phần glexhomes - một doanh nghiệp trong hệ sinh thái geleximco - cũng nắm 4,43 vốn abbank. cổ đông tổ chức còn lại là malayan banking berhad maybank nắm giữ 16,39 vốn.  \n",
       " ...                                                                                                                                                                                                                                                                                                                                                              ...  \n",
       " 9688                                                                                                                                                            ông hinh cũng nhìn nhận thị trường chứng khoán phản ứng không quá tiêu cực về động thái phát hành tín phiếu của ngân hàng nhà nước. điều này là nhờ thị trường hiện tại đang có nhiều yếu tố hỗ trợ.  \n",
       " 9689                                                                                                                                                                                           dòng tiền trong nước đang khá quyết liệt, được hậu thuẫn bởi môi trường lãi suất thấp và tâm lý kỳ vọng vào câu chuyện nâng hạng thị trường, vị chuyên gia bình luận.  \n",
       " 9690        ông nguyễn thế minh cho biết việc phát hành tín phiếu này sẽ không ảnh hưởng tới hoạt động cho vay margin. bởi dư địa margin tại các công ty chứng khoán vẫn còn rất lớn sau nhiều đợt tăng vốn. vay margin hay còn gọi là giao dịch ký quỹ là một thuật ngữ được dùng trong đầu tư, để chỉ hoạt động vay ký quỹ giữa nhà đầu tư và công ty chứng khoán.  \n",
       " 9691  với hoạt động phát hành tín phiếu đang diễn ra, các chuyên gia khuyến nghị nhà đầu tư quan sát các chỉ số như tỉ giá gồm cả chính thức và tự do, chỉ số usd index quy mô hút ròng và lãi suất phát hành cùng với lãi suất liên ngân hàng qua đêm các ngành biến động giảm điểm mạnh trong quá khứ làm chỉ báo cho mức độ ảnh hưởng tới thị trường chứng khoán.  \n",
       " 9692                                                                                                                            nhìn chung hút ròng tín phiếu là hoạt động nghiệp vụ, công cụ điều tiết, không có hàm ý đảo chiều chính sách. do vậy nhà đầu tư không nên quá lo ngại, cần theo dõi và có những đánh giá khách quan để có chiến lược đầu tư phù hợp.  \n",
       " \n",
       " [9637 rows x 2 columns],\n",
       " 'cafef_business':                                                                                            title  \\\n",
       " 0     vinpearl lãi gần 2.600 tỷ trong nửa đầu năm 2024, tài sản gần 3 tỷ usd, vượt vincom retail   \n",
       " 1     vinpearl lãi gần 2.600 tỷ trong nửa đầu năm 2024, tài sản gần 3 tỷ usd, vượt vincom retail   \n",
       " 2     vinpearl lãi gần 2.600 tỷ trong nửa đầu năm 2024, tài sản gần 3 tỷ usd, vượt vincom retail   \n",
       " 3     vinpearl lãi gần 2.600 tỷ trong nửa đầu năm 2024, tài sản gần 3 tỷ usd, vượt vincom retail   \n",
       " 4     vinpearl lãi gần 2.600 tỷ trong nửa đầu năm 2024, tài sản gần 3 tỷ usd, vượt vincom retail   \n",
       " ...                                                                                          ...   \n",
       " 4436                      tiết lộ số thuế google, facebook, netflix... đã nộp trong nửa năm 2024   \n",
       " 4437                      tiết lộ số thuế google, facebook, netflix... đã nộp trong nửa năm 2024   \n",
       " 4438                      tiết lộ số thuế google, facebook, netflix... đã nộp trong nửa năm 2024   \n",
       " 4439                      tiết lộ số thuế google, facebook, netflix... đã nộp trong nửa năm 2024   \n",
       " 4440                      tiết lộ số thuế google, facebook, netflix... đã nộp trong nửa năm 2024   \n",
       " \n",
       "                                                                                                                                                                                                                                                                                                                                                   content  \n",
       " 0                                                                                                                                                                                                mới đây, ctcp vinpearl đã công bố một số chỉ tiêu tài chính nửa đầu năm 2024 với lợi nhuận sau thuế 2.579 tỷ đồng, gấp 3,8 lần so với cùng kỳ năm trước.  \n",
       " 1                                               theo thông tin từ tập đoàn vingroup, hoạt động kinh doanh của vinpearl khởi sắc với tổng số đêm phòng bán trong quý 2/2024 đạt gần 452.000 phòng, tăng 25 so với cùng kỳ năm trước. doanh thu của vinwonders và vinpearl golf quý 2/2024 cũng tăng trưởng lần lượt 52 và 17 so với cùng kỳ năm ngoái.  \n",
       " 2                                                                                                                                         tại thời điểm 30/6, vốn chủ sở hữu của vinpearl đạt 31.513 tỷ đồng. hệ số nợ/vốn chủ sở hữu là 1,15 lần, tương ứng với nợ phải trả xấp xỉ 36.200 tỷ đồng. trong đó, dư nợ trái phiếu khoảng hơn 11.000 tỷ đồng.  \n",
       " 3                                                                                                                                                                                như vậy, quy mô tài sản của vinpearl đạt khoảng 67.750 tỷ đồng khoảng 2,7 tỷ usd. con số này vượt một công ty liên kết của vingroup là vincom retail hơn 52.000 tỷ đồng.  \n",
       " 4                                                                                                                                                         cuối tháng 8/2024, vinpearl đã phát hành 750 trái phiếu quốc tế với mệnh giá 200.000 usd tương đương tổng giá trị 150 triệu usd. số trái phiếu này có kỳ hạn 5 năm, đáo hạn vào ngày 20/8/2029.  \n",
       " ...                                                                                                                                                                                                                                                                                                                                                   ...  \n",
       " 4436                                                                                          tổng cục thuế cũng ghi nhận 383 sàn giao dịch thương mại điện tử cung cấp thông tin trên cổng, tăng 22 đơn vị so với lũy kế đến cuối năm 2023. số thu ngân sách nhà nước đối với hoạt động kinh doanh thương mại điện tử liên tục tăng trong những năm qua.  \n",
       " 4437                                                                                                                          theo đó, số liệu quản lý thuế trong 2 năm gần nhất đã ghi nhận kết quả thu thuế từ các tổ chức, cá nhân có hoạt động kinh doanh thương mại điện tử năm 2022 là 83 ngàn tỉ đồng. năm 2023 số thuế đã nộp là 97 ngàn tỉ đồng.  \n",
       " 4438                                                       đến năm 2024, ngành thuế đang quản lý 123.759 người nộp thuế có hoạt động kinh doanh trong lĩnh vực thương mại điện tử. trong đó, cá nhân là 88.147, doanh nghiệp bán hàng hóa thông qua sàn thương mại điện tử là 35.131, doanh nghiệp là chủ sở hữu sàn giao dịch thương mại điện tử là 361.  \n",
       " 4439                                                                                   về một số giải pháp quản lý thuế với thương mại điện tử thời gian tới, bộ tài chính cho rằng cần tiếp tục tăng cường kết nối dữ liệu, liên thông đồng bộ giữa các bộ, ngành, đặc biệt dữ liệu dân cư, dữ liệu thương mại điện tử, dữ liệu thanh toán qua ngân hàng  \n",
       " 4440  cùng với đó, rà soát hoàn thiện pháp luật liên quan đến quản lý hoạt động thương mại điện tử xây dựng cổng thông tin đăng ký kê khai thuế của sàn thương mại điện tử trong nước, đôn đốc kê khai, chọn thanh tra, xử lý một số trường hợp trốn thuế. bên cạnh đó, đẩy mạnh áp dụng thanh toán không dùng tiền mặt để quản lý thu thuế hiệu quả hơn.  \n",
       " \n",
       " [4400 rows x 2 columns]}"
      ]
     },
     "execution_count": 127,
     "metadata": {},
     "output_type": "execute_result"
    }
   ],
   "source": [
    "\n",
    "def clean(text):\n",
    "    if not isinstance(text, str): \n",
    "        return text\n",
    "    \n",
    "    text = re.sub(r'http\\S+|www.\\S+|[a-zA-Z0-9._%+-]+(?:\\.com|\\.vn|\\.org|\\.net|\\.edu)\\S*', '', text)\n",
    "    text = text.replace('./.', '.')\n",
    "    text = re.sub(r'[^\\w\\s.,!?/-]', '', text)\n",
    "    text = re.sub(r'\\s+', ' ', text)\n",
    "    text = text.lower().strip()\n",
    "    return text\n",
    "\n",
    "for name, df in tqdm(dataframes.items(), desc=\"processing\"):\n",
    "    for col in df.select_dtypes(include=['object']).columns:\n",
    "        dataframes[name][col] = df[col].apply(clean)\n",
    "\n",
    "dataframes"
   ]
  },
  {
   "cell_type": "code",
   "execution_count": 128,
   "metadata": {},
   "outputs": [
    {
     "data": {
      "text/plain": [
       "{'vnexpress': 0,\n",
       " 'thoibaotaichinh': 0,\n",
       " 'thitruongtaichinhtiente': 0,\n",
       " 'vietstock': 0,\n",
       " 'tapchitaichinh': 0,\n",
       " 'vneconomy2': 0,\n",
       " 'Vneconomy(1)': 1,\n",
       " 'cafef_stock': 0,\n",
       " 'thanhnien': 0,\n",
       " 'cafef_bank': 0,\n",
       " 'thitruongtaichinh': 1,\n",
       " 'tuoitre': 1,\n",
       " 'cafef_business': 0}"
      ]
     },
     "execution_count": 128,
     "metadata": {},
     "output_type": "execute_result"
    }
   ],
   "source": [
    "{name: df.duplicated().sum() for name, df in dataframes.items()}"
   ]
  },
  {
   "cell_type": "code",
   "execution_count": 129,
   "metadata": {},
   "outputs": [
    {
     "name": "stdout",
     "output_type": "stream",
     "text": [
      "                                                                                         title  \\\n",
      "4710  thí điểm chính sách đặc thù, dùng ngân sách địa phương đầu tư hàng loạt quốc lộ, cao tốc   \n",
      "4722  thí điểm chính sách đặc thù, dùng ngân sách địa phương đầu tư hàng loạt quốc lộ, cao tốc   \n",
      "\n",
      "                                                                                                         content  \n",
      "4710  ubnd tỉnh hậu giang làm cơ quan chủ quản dự án nâng cấp mở rộng tuyến nối cần thơ - hậu giang quốc lộ 61c.  \n",
      "4722  ubnd tỉnh hậu giang làm cơ quan chủ quản dự án nâng cấp mở rộng tuyến nối cần thơ - hậu giang quốc lộ 61c.  \n",
      "                                               title  \\\n",
      "299  xe điện trung quốc tấn công thị trường việt nam   \n",
      "301  xe điện trung quốc tấn công thị trường việt nam   \n",
      "\n",
      "                                                                                                                                                                                                                                                                                                                                                                                                                                                                                                                                                                                                   content  \n",
      "299  một trong những nguyên nhân để xe điện trung quốc bùng nổ là họ đã khai thác thị trường nga quá tốt trong bối cảnh nước này bị cấm vận, các hãng khác phải rút quân, quý 1 năm 2023, trung quốc bán 140.000 ô tô điện cho thị trường này. bloomberg và reuters đều đưa tin hãng byd đang có kế hoạch sản xuất ô tô điện ở việt nam. các sản phẩm của nhà máy này sẽ được bán tại việt nam và các nước khác trong khu vực đông nam á. byd đang xây dựng cơ sở sản xuất ở nước ngoài đầu tiên ở thái lan với công suất 150.000 xe/năm và xem xét đặt thêm nhà máy ở việt nam, philippines và indonesia.  \n",
      "301  một trong những nguyên nhân để xe điện trung quốc bùng nổ là họ đã khai thác thị trường nga quá tốt trong bối cảnh nước này bị cấm vận, các hãng khác phải rút quân, quý 1 năm 2023, trung quốc bán 140.000 ô tô điện cho thị trường này. bloomberg và reuters đều đưa tin hãng byd đang có kế hoạch sản xuất ô tô điện ở việt nam. các sản phẩm của nhà máy này sẽ được bán tại việt nam và các nước khác trong khu vực đông nam á. byd đang xây dựng cơ sở sản xuất ở nước ngoài đầu tiên ở thái lan với công suất 150.000 xe/năm và xem xét đặt thêm nhà máy ở việt nam, philippines và indonesia.  \n",
      "                                                          title  \\\n",
      "7334  chờ đón điều gì tại đại hội cổ đông techcombank năm 2024?   \n",
      "7342  chờ đón điều gì tại đại hội cổ đông techcombank năm 2024?   \n",
      "\n",
      "                                                                                                                                                                                                                                                           content  \n",
      "7334  chi phí vốn của ngân hàng được kỳ vọng tiếp tục giảm và nim sẽ cải thiện, mặc dù sự cải thiện sẽ ở mức vừa phải do tác động của sự cạnh tranh khốc liệt về lãi suất. ngân hàng kỳ vọng thu nhập lãi ròng nii sẽ trở lại tốc độ tăng hai con số vào năm 2024.  \n",
      "7342  chi phí vốn của ngân hàng được kỳ vọng tiếp tục giảm và nim sẽ cải thiện, mặc dù sự cải thiện sẽ ở mức vừa phải do tác động của sự cạnh tranh khốc liệt về lãi suất. ngân hàng kỳ vọng thu nhập lãi ròng nii sẽ trở lại tốc độ tăng hai con số vào năm 2024.  \n"
     ]
    }
   ],
   "source": [
    "for name, df in dataframes.items():\n",
    "    duplicates = df[df.duplicated(keep=False)] \n",
    "    if not duplicates.empty:\n",
    "        print(duplicates)"
   ]
  },
  {
   "cell_type": "code",
   "execution_count": 130,
   "metadata": {},
   "outputs": [
    {
     "data": {
      "text/plain": [
       "{'vnexpress': 0,\n",
       " 'thoibaotaichinh': 0,\n",
       " 'thitruongtaichinhtiente': 0,\n",
       " 'vietstock': 0,\n",
       " 'tapchitaichinh': 0,\n",
       " 'vneconomy2': 0,\n",
       " 'Vneconomy(1)': 0,\n",
       " 'cafef_stock': 0,\n",
       " 'thanhnien': 0,\n",
       " 'cafef_bank': 0,\n",
       " 'thitruongtaichinh': 0,\n",
       " 'tuoitre': 0,\n",
       " 'cafef_business': 0}"
      ]
     },
     "execution_count": 130,
     "metadata": {},
     "output_type": "execute_result"
    }
   ],
   "source": [
    "for name, df in dataframes.items():\n",
    "    dataframes[name].drop_duplicates(inplace=True)\n",
    "{name: df.duplicated().sum() for name, df in dataframes.items()}"
   ]
  },
  {
   "cell_type": "code",
   "execution_count": 131,
   "metadata": {},
   "outputs": [],
   "source": [
    "# pd.set_option('display.max_colwidth', None) \n",
    "\n",
    "# for key, df in dataframes.items():\n",
    "#     dataframes[key] = df.groupby('title')['content'].apply(' '.join).reset_index()\n",
    "# print(dataframes['vnexpress'])"
   ]
  },
  {
   "cell_type": "code",
   "execution_count": 132,
   "metadata": {},
   "outputs": [],
   "source": [
    "linhtinh = r'trytryforconst.*document.queryselectorall.*'\n",
    "\n",
    "for key in dataframes:\n",
    "    dataframes[key] = dataframes[key][~dataframes[key]['content'].str.contains(linhtinh, regex=True, na=False)]\n",
    "    dataframes[key] = dataframes[key][dataframes[key]['content'].str.split().str.len() > 4]\n",
    "    \n",
    "    dataframes[key] = dataframes[key][~((dataframes[key]['content'].str.contains('phiên an theo', na=False)) & \n",
    "                                                  (dataframes[key]['content'].str.split().str.len() < 15))]\n"
   ]
  },
  {
   "cell_type": "code",
   "execution_count": 135,
   "metadata": {},
   "outputs": [
    {
     "data": {
      "text/html": [
       "<div>\n",
       "<style scoped>\n",
       "    .dataframe tbody tr th:only-of-type {\n",
       "        vertical-align: middle;\n",
       "    }\n",
       "\n",
       "    .dataframe tbody tr th {\n",
       "        vertical-align: top;\n",
       "    }\n",
       "\n",
       "    .dataframe thead th {\n",
       "        text-align: right;\n",
       "    }\n",
       "</style>\n",
       "<table border=\"1\" class=\"dataframe\">\n",
       "  <thead>\n",
       "    <tr style=\"text-align: right;\">\n",
       "      <th></th>\n",
       "      <th>title</th>\n",
       "      <th>content</th>\n",
       "    </tr>\n",
       "  </thead>\n",
       "  <tbody>\n",
       "    <tr>\n",
       "      <th>0</th>\n",
       "      <td>1 triệu usd hỗ trợ phát triển các đô thị loại ii</td>\n",
       "      <td>mục tiêu chính là hỗ trợ các chủ dự án lập báo cáo nghiên cứu khả thi, thiết kế cơ sở và lập kế hoạch chuẩn bị cho dự án đầu tư vay vốn của adb nhằm phát triển và nâng cấp đồng bộ hạ tầng kỹ thuật đô thị tại 3 thành phố hà giang tỉnh hà giang, vĩnh yên tỉnh vĩnh phúc và huế tỉnh thừa thiên-huế. việc hỗ trợ này đặt kết quả đầu ra là phải hoàn thiện báo cáo khả thi dự án đầu tư phát triển đô thị loại ii tại hà giang, vĩnh phúc và thừa thiên - huế xác định phạm vi các công việc triển khai, thu xếp tài chính, kỹ thuật và các vấn đề đảm bảo về xã hội của dự án vay vốn adb. tổng kinh phí thực hiện dự án là 1.000.000 usd trong đó adb viện trợ không hoàn lại 800.000 usd. ubnd tỉnh hà giang, vĩnh phúc và thừa thiên-huế là cơ quan chủ quản dự án. dự án được thực hiện từ tháng 1/2014-2/2015.</td>\n",
       "    </tr>\n",
       "    <tr>\n",
       "      <th>1</th>\n",
       "      <td>1,2 tỷ đồng hỗ trợ kinh phí hoạt động sở ngoại vụ yên bái</td>\n",
       "      <td>theo đó, căn cứ quyết định của ubnd tỉnh yên bái về việc thành lập sở ngoại vụ yên bái căn cứ quyết định của thủ tướng chính phủ về việc ban hành định mức phân bổ dự toán chi thường xuyên nsnn năm 2011 đối với các tỉnh, thành phố trực thuộc trung ương được cơ quan có thẩm quyền cho phép thành lập các đơn vị hành chính đặc thù, được bổ sung thêm theo mức 1,2 tỷ đồng/đơn vị hành chính cấp tỉnh, bộ tài chính quyết định bổ sung có mục tiêu năm 2013 số tiền 1,2 tỷ đồng để hỗ trợ kinh phí hoạt động cho sở ngoại vụ tỉnh yên bái. bộ tài chính đề nghị ubnd tỉnh yên bái chỉ đạo các cơ quan chức năng thực hiện rút dự toán số tiền trên tại kbnn theo quy định về tổ chức thực hiện dự toán nsnn năm 2013.</td>\n",
       "    </tr>\n",
       "    <tr>\n",
       "      <th>2</th>\n",
       "      <td>1.106 tỷ đồng cho công trình đưa điện ra đảo cô tô</td>\n",
       "      <td>công trình đưa điện lưới ra huyện đảo cô tô đã được khánh thành ngày 16/10. đây là công trình đầu tiên nối lưới điện quốc gia từ đất liền qua hàng chục cây số đường biển đến với xã đảo. đây cũng là dự án đầu tiên trong cả nước được thi công với công nghệ chôn ngầm cáp 22kv dưới đáy biển và rải dây điện 110kv trên không bằng khinh khí cầu. quy mô dự án gồm 40km đường dây truyền tải điện 110km, 23,2km cáp ngầm tiêu chuẩn 22kv, gần 200 vị trí cột thép, 14 trạm biến áp và khoảng 35km đường dây trung và hạ thế việc đóng điện thành công ra huyện đảo cô tô là sự kiện hết sức quan trọng nhằm phát triển nhanh, hiệu quả bền vững vùng biển đảo cô tô, tiến tới xây dựng cô tô trở thành một vùng đảo có kinh tế năng động, một trọng điểm phát triển trong chiến lược phát triển kinh tế biển đảo tỉnh quảng ninh nói riêng và chiến lược biển cả nước nói chung. đồng thời là căn cứ vững chắc để bảo vệ quốc phòng an ninh và chủ quyền quốc gia vùng biển đông bắc của tổ quốc. huyện côtô là một quần đảo nằm ở phía đông của đảo vân đồn, tỉnh quảng ninh. diện tích 46,2 km, dân số toàn huyện là 5.465 người đến 4/2011. trước 16/10, điện phục vụ sinh hoạt, sản xuất kinh doanh chỉ được cấp bằng các nguồn máy phát chạy dầu diesel, nguồn năng lượng mặt trời với công suất rất nhỏ.</td>\n",
       "    </tr>\n",
       "    <tr>\n",
       "      <th>3</th>\n",
       "      <td>1.170 tấn gạo cứu đói cho tỉnh quảng ngãi năm 2013</td>\n",
       "      <td>xuất cấp gạo hỗ trợ người dân quảng ngãi. ảnh bộ tài chính cho biết, theo quy định của chính phủ, đối tượng được trợ giúp đột xuất được hỗ trợ cứu đói là 15kg gạo/người/tháng trong thời gian từ 1 đến 3 tháng. theo báo cáo của tỉnh quảng ngãi, do ảnh hưởng của cơn bão số 11, toàn tỉnh có khoảng 24.341 hộ với 77.757 nhân khẩu thiếu đói.</td>\n",
       "    </tr>\n",
       "    <tr>\n",
       "      <th>4</th>\n",
       "      <td>1.281 tỷ đồng hỗ trợ giảm tổn thất sau thu hoạch</td>\n",
       "      <td>chính sách hỗ trợ nhằm giảm tổn thất sau thu hoạch đối với nông sản, thuỷ sản của chính phủ tại nghị quyết số 48/nq-cp, quyết định 63/2010/qđ-ttg qđ 63 và quyết định 65/2011/qđ-ttg qđ 65 có quy định ngân sách nhà nước hỗ trợ 100 lãi suất trong 2 năm đầu, từ năm thứ 3 trở đi là 50 lãi suất đối với các khoản vay của các ngân hàng thương mại nhà nước để đầu tư các máy móc, thiết bị như làm đất, gieo cấy, trồng, chăm sóc, thu hoạch lúa, ngô, cà phê, chè, mía được vay vốn của ngân hàng nông nghiệp và phát triển nông thôn với lãi suất tín dụng đầu tư của nhà nước để đầu tư xây dựng kho dự trữ 4 triệu tấn lúa, ngô, kho lạnh bảo quản thuỷ sản, thiết bị xay xát gạo, chế biến ướt cà phê, ... ngân hàng nông nghiệp và phát triển nông thôn cho vay được ngân sách nhà nước cấp bù chênh lệch giữa lãi suất cho vay thương mại và lãi suất tín dụng đầu tư của nhà nước. thời gian thực hiện chính sách bắt đầu từ ngày 1/5/2011. trong phạm vi chức năng, nhiệm vụ, bộ tài chính đã ban hành các văn bản hướng dẫn thực hiện với đối tượng áp dụng là 5 ngân hàng thương mại nhà nước được ngân sách nhà nước hỗ trợ lãi suất khi thực hiện việc cho vay theo quy định tại qđ 65. riêng ngân hàng nông nghiệp và phát triển nông thôn việt nam được ngân sách nhà nước cấp bù chênh lệch lãi suất khi thực hiện việc cho vay theo quy định tại 2 quyết định nói trên, với số tiền tạm cấp là 50 tỷ đồng trong năm 2012 - 2013. tính chung trong 3 năm 2011-2013, bộ tài chính đã hỗ trợ kinh phí cho các địa phương phòng chống, khắc phục hậu quả dịch bệnh cây trồng, vật nuôi khôi phục sản xuất vùng bị thiên tai với tổng kinh phí là 1.281 tỷ đồng. ngoài ra, để giảm tổn thất trong nông nghiệp bộ tài chính cũng đã hỗ trợ kinh phí thí điểm bảo hiểm nông nghiệp trong 2 năm 2012- 2013 là 285,1 tỷ đồng. sau 3 năm thực hiện, bộ tài chính cho biết, chính phủ đã ban hành quyết định số 68/2013/qđ-ttg có hiệu lực từ ngày 1/1/2014, với những đổi mới trong chính sách hỗ trợ nhằm giảm tổn thất trong nông nghiệp như sau ngân sách nhà nước hỗ trợ 100 lãi suất trong 2 năm đầu, 50 lãi suất trong năm thứ ba cho vốn vay thương mại đối với các khoản vay dài hạn, trung hạn, ngắn hạn bằng đồng việt nam để mua máy, thiết bị nhằm giảm tổn thất trong nông nghiệp. ngân sách nhà nước hỗ trợ phần chênh lệch giữa lãi suất thương mại đối với các khoản vay dài hạn, trung hạn bằng đồng việt nam và lãi suất tín dụng đầu tư phát triển của nhà nước để thực hiện các dự án đầu tư dây chuyền máy, thiết bị giảm tổn thất trong nông nghiệp bao gồm cả nhà xưởng. ngân sách nhà nước chỉ hỗ trợ lãi suất và cấp bù chênh lệch lãi suất đối với các khoản vay đã ký hợp đồng vay vốn tại các ngân hàng thương mại trước ngày 31/12/2020.</td>\n",
       "    </tr>\n",
       "  </tbody>\n",
       "</table>\n",
       "</div>"
      ],
      "text/plain": [
       "                                                       title  \\\n",
       "0           1 triệu usd hỗ trợ phát triển các đô thị loại ii   \n",
       "1  1,2 tỷ đồng hỗ trợ kinh phí hoạt động sở ngoại vụ yên bái   \n",
       "2         1.106 tỷ đồng cho công trình đưa điện ra đảo cô tô   \n",
       "3         1.170 tấn gạo cứu đói cho tỉnh quảng ngãi năm 2013   \n",
       "4           1.281 tỷ đồng hỗ trợ giảm tổn thất sau thu hoạch   \n",
       "\n",
       "                                                                                                                                                                                                                                                                                                                                                                                                                                                                                                                                                                                                                                                                                                                                                                                                                                                                                                                                                                                                                                                                                                                                                                                                                                                                                                                                                                                                                                                                                                                                                                                                                                                                                                                                                                                                                                                                                                                                                                                                                                                                                                                                                                                                                                                                                                                                                                                                                                                                                                                                                                                                                                                                                                                                                                           content  \n",
       "0                                                                                                                                                                                                                                                                                                                                                                                                                                                                                                                                                                                                                                                                                                                                                                                                                                                                                                                                                                                                                                                                                                                                                                                                                                                                                                                                                                                                                                                                                                                                                                                                                                                                                                                                                                                                                                                                                                                                                        mục tiêu chính là hỗ trợ các chủ dự án lập báo cáo nghiên cứu khả thi, thiết kế cơ sở và lập kế hoạch chuẩn bị cho dự án đầu tư vay vốn của adb nhằm phát triển và nâng cấp đồng bộ hạ tầng kỹ thuật đô thị tại 3 thành phố hà giang tỉnh hà giang, vĩnh yên tỉnh vĩnh phúc và huế tỉnh thừa thiên-huế. việc hỗ trợ này đặt kết quả đầu ra là phải hoàn thiện báo cáo khả thi dự án đầu tư phát triển đô thị loại ii tại hà giang, vĩnh phúc và thừa thiên - huế xác định phạm vi các công việc triển khai, thu xếp tài chính, kỹ thuật và các vấn đề đảm bảo về xã hội của dự án vay vốn adb. tổng kinh phí thực hiện dự án là 1.000.000 usd trong đó adb viện trợ không hoàn lại 800.000 usd. ubnd tỉnh hà giang, vĩnh phúc và thừa thiên-huế là cơ quan chủ quản dự án. dự án được thực hiện từ tháng 1/2014-2/2015.  \n",
       "1                                                                                                                                                                                                                                                                                                                                                                                                                                                                                                                                                                                                                                                                                                                                                                                                                                                                                                                                                                                                                                                                                                                                                                                                                                                                                                                                                                                                                                                                                                                                                                                                                                                                                                                                                                                                                                                                                                                                                                                                                                                       theo đó, căn cứ quyết định của ubnd tỉnh yên bái về việc thành lập sở ngoại vụ yên bái căn cứ quyết định của thủ tướng chính phủ về việc ban hành định mức phân bổ dự toán chi thường xuyên nsnn năm 2011 đối với các tỉnh, thành phố trực thuộc trung ương được cơ quan có thẩm quyền cho phép thành lập các đơn vị hành chính đặc thù, được bổ sung thêm theo mức 1,2 tỷ đồng/đơn vị hành chính cấp tỉnh, bộ tài chính quyết định bổ sung có mục tiêu năm 2013 số tiền 1,2 tỷ đồng để hỗ trợ kinh phí hoạt động cho sở ngoại vụ tỉnh yên bái. bộ tài chính đề nghị ubnd tỉnh yên bái chỉ đạo các cơ quan chức năng thực hiện rút dự toán số tiền trên tại kbnn theo quy định về tổ chức thực hiện dự toán nsnn năm 2013.  \n",
       "2                                                                                                                                                                                                                                                                                                                                                                                                                                                                                                                                                                                                                                                                                                                                                                                                                                                                                                                                                                                                                                                                                                                                                                                                                                                                                                                                                                                                                                                                công trình đưa điện lưới ra huyện đảo cô tô đã được khánh thành ngày 16/10. đây là công trình đầu tiên nối lưới điện quốc gia từ đất liền qua hàng chục cây số đường biển đến với xã đảo. đây cũng là dự án đầu tiên trong cả nước được thi công với công nghệ chôn ngầm cáp 22kv dưới đáy biển và rải dây điện 110kv trên không bằng khinh khí cầu. quy mô dự án gồm 40km đường dây truyền tải điện 110km, 23,2km cáp ngầm tiêu chuẩn 22kv, gần 200 vị trí cột thép, 14 trạm biến áp và khoảng 35km đường dây trung và hạ thế việc đóng điện thành công ra huyện đảo cô tô là sự kiện hết sức quan trọng nhằm phát triển nhanh, hiệu quả bền vững vùng biển đảo cô tô, tiến tới xây dựng cô tô trở thành một vùng đảo có kinh tế năng động, một trọng điểm phát triển trong chiến lược phát triển kinh tế biển đảo tỉnh quảng ninh nói riêng và chiến lược biển cả nước nói chung. đồng thời là căn cứ vững chắc để bảo vệ quốc phòng an ninh và chủ quyền quốc gia vùng biển đông bắc của tổ quốc. huyện côtô là một quần đảo nằm ở phía đông của đảo vân đồn, tỉnh quảng ninh. diện tích 46,2 km, dân số toàn huyện là 5.465 người đến 4/2011. trước 16/10, điện phục vụ sinh hoạt, sản xuất kinh doanh chỉ được cấp bằng các nguồn máy phát chạy dầu diesel, nguồn năng lượng mặt trời với công suất rất nhỏ.  \n",
       "3                                                                                                                                                                                                                                                                                                                                                                                                                                                                                                                                                                                                                                                                                                                                                                                                                                                                                                                                                                                                                                                                                                                                                                                                                                                                                                                                                                                                                                                                                                                                                                                                                                                                                                                                                                                                                                                                                                                                                                                                                                                                                                                                                                                                                                                                                                                                                                                                                                 xuất cấp gạo hỗ trợ người dân quảng ngãi. ảnh bộ tài chính cho biết, theo quy định của chính phủ, đối tượng được trợ giúp đột xuất được hỗ trợ cứu đói là 15kg gạo/người/tháng trong thời gian từ 1 đến 3 tháng. theo báo cáo của tỉnh quảng ngãi, do ảnh hưởng của cơn bão số 11, toàn tỉnh có khoảng 24.341 hộ với 77.757 nhân khẩu thiếu đói.  \n",
       "4  chính sách hỗ trợ nhằm giảm tổn thất sau thu hoạch đối với nông sản, thuỷ sản của chính phủ tại nghị quyết số 48/nq-cp, quyết định 63/2010/qđ-ttg qđ 63 và quyết định 65/2011/qđ-ttg qđ 65 có quy định ngân sách nhà nước hỗ trợ 100 lãi suất trong 2 năm đầu, từ năm thứ 3 trở đi là 50 lãi suất đối với các khoản vay của các ngân hàng thương mại nhà nước để đầu tư các máy móc, thiết bị như làm đất, gieo cấy, trồng, chăm sóc, thu hoạch lúa, ngô, cà phê, chè, mía được vay vốn của ngân hàng nông nghiệp và phát triển nông thôn với lãi suất tín dụng đầu tư của nhà nước để đầu tư xây dựng kho dự trữ 4 triệu tấn lúa, ngô, kho lạnh bảo quản thuỷ sản, thiết bị xay xát gạo, chế biến ướt cà phê, ... ngân hàng nông nghiệp và phát triển nông thôn cho vay được ngân sách nhà nước cấp bù chênh lệch giữa lãi suất cho vay thương mại và lãi suất tín dụng đầu tư của nhà nước. thời gian thực hiện chính sách bắt đầu từ ngày 1/5/2011. trong phạm vi chức năng, nhiệm vụ, bộ tài chính đã ban hành các văn bản hướng dẫn thực hiện với đối tượng áp dụng là 5 ngân hàng thương mại nhà nước được ngân sách nhà nước hỗ trợ lãi suất khi thực hiện việc cho vay theo quy định tại qđ 65. riêng ngân hàng nông nghiệp và phát triển nông thôn việt nam được ngân sách nhà nước cấp bù chênh lệch lãi suất khi thực hiện việc cho vay theo quy định tại 2 quyết định nói trên, với số tiền tạm cấp là 50 tỷ đồng trong năm 2012 - 2013. tính chung trong 3 năm 2011-2013, bộ tài chính đã hỗ trợ kinh phí cho các địa phương phòng chống, khắc phục hậu quả dịch bệnh cây trồng, vật nuôi khôi phục sản xuất vùng bị thiên tai với tổng kinh phí là 1.281 tỷ đồng. ngoài ra, để giảm tổn thất trong nông nghiệp bộ tài chính cũng đã hỗ trợ kinh phí thí điểm bảo hiểm nông nghiệp trong 2 năm 2012- 2013 là 285,1 tỷ đồng. sau 3 năm thực hiện, bộ tài chính cho biết, chính phủ đã ban hành quyết định số 68/2013/qđ-ttg có hiệu lực từ ngày 1/1/2014, với những đổi mới trong chính sách hỗ trợ nhằm giảm tổn thất trong nông nghiệp như sau ngân sách nhà nước hỗ trợ 100 lãi suất trong 2 năm đầu, 50 lãi suất trong năm thứ ba cho vốn vay thương mại đối với các khoản vay dài hạn, trung hạn, ngắn hạn bằng đồng việt nam để mua máy, thiết bị nhằm giảm tổn thất trong nông nghiệp. ngân sách nhà nước hỗ trợ phần chênh lệch giữa lãi suất thương mại đối với các khoản vay dài hạn, trung hạn bằng đồng việt nam và lãi suất tín dụng đầu tư phát triển của nhà nước để thực hiện các dự án đầu tư dây chuyền máy, thiết bị giảm tổn thất trong nông nghiệp bao gồm cả nhà xưởng. ngân sách nhà nước chỉ hỗ trợ lãi suất và cấp bù chênh lệch lãi suất đối với các khoản vay đã ký hợp đồng vay vốn tại các ngân hàng thương mại trước ngày 31/12/2020.  "
      ]
     },
     "execution_count": 135,
     "metadata": {},
     "output_type": "execute_result"
    }
   ],
   "source": [
    "merged = {}\n",
    "for source, df in dataframes.items():\n",
    "    df['title'] = df['title'].str.strip()\n",
    "    if source not in merged:\n",
    "        merged[source] = pd.DataFrame(columns=['title', 'content'])\n",
    "\n",
    "    grouped = df.groupby('title')['content'].apply(lambda x: ' '.join(x)).reset_index()\n",
    "    merged[source] = pd.concat([merged[source], grouped], ignore_index=True)\n",
    "merged['thoibaotaichinh'].head(5)"
   ]
  },
  {
   "cell_type": "code",
   "execution_count": 136,
   "metadata": {},
   "outputs": [
    {
     "name": "stderr",
     "output_type": "stream",
     "text": [
      "100%|██████████| 13/13 [00:09<00:00,  1.33it/s]"
     ]
    },
    {
     "name": "stdout",
     "output_type": "stream",
     "text": [
      "saved\n"
     ]
    },
    {
     "name": "stderr",
     "output_type": "stream",
     "text": [
      "\n"
     ]
    }
   ],
   "source": [
    "cleaned_folder = os.path.abspath('data_cleaned')\n",
    "\n",
    "if not os.path.exists(cleaned_folder):\n",
    "    os.makedirs(cleaned_folder)\n",
    "try:\n",
    "    for name, df in tqdm(dataframes.items()):\n",
    "        cleaned_file = os.path.join(cleaned_folder, f\"{name}_cleaned.xlsx\")\n",
    "        df.to_excel(cleaned_file, index=False)\n",
    "    print(f\"saved\")\n",
    "except Exception as e:\n",
    "    print(f\"error: {e}\")"
   ]
  },
  {
   "cell_type": "code",
   "execution_count": null,
   "metadata": {},
   "outputs": [],
   "source": []
  }
 ],
 "metadata": {
  "kernelspec": {
   "display_name": "Python 3",
   "language": "python",
   "name": "python3"
  },
  "language_info": {
   "codemirror_mode": {
    "name": "ipython",
    "version": 3
   },
   "file_extension": ".py",
   "mimetype": "text/x-python",
   "name": "python",
   "nbconvert_exporter": "python",
   "pygments_lexer": "ipython3",
   "version": "3.10.13"
  }
 },
 "nbformat": 4,
 "nbformat_minor": 2
}
